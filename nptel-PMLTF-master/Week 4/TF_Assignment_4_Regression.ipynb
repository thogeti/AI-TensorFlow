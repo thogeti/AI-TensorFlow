{
  "nbformat": 4,
  "nbformat_minor": 0,
  "metadata": {
    "colab": {
      "name": "TF_Assignment 4 - Regression.ipynb",
      "provenance": [],
      "collapsed_sections": [],
      "include_colab_link": true
    },
    "kernelspec": {
      "name": "python3",
      "display_name": "Python 3"
    },
    "accelerator": "TPU"
  },
  "cells": [
    {
      "cell_type": "markdown",
      "metadata": {
        "id": "view-in-github",
        "colab_type": "text"
      },
      "source": [
        "<a href=\"https://colab.research.google.com/github/ada-nai/nptel-PMLTF/blob/master/TF_Assignment_4_Regression.ipynb\" target=\"_parent\"><img src=\"https://colab.research.google.com/assets/colab-badge.svg\" alt=\"Open In Colab\"/></a>"
      ]
    },
    {
      "cell_type": "markdown",
      "metadata": {
        "id": "pLVhCarMwG70",
        "colab_type": "text"
      },
      "source": [
        "### **Setup**"
      ]
    },
    {
      "cell_type": "markdown",
      "metadata": {
        "id": "teXJ1XpSwdvR",
        "colab_type": "text"
      },
      "source": [
        "Install and import all the necessary libraries for the assignment."
      ]
    },
    {
      "cell_type": "code",
      "metadata": {
        "id": "UQNMrFD-ZBwK",
        "colab_type": "code",
        "colab": {}
      },
      "source": [
        "!pip install tensorflow==2.0.0-rc0\n",
        "\n",
        "from sklearn.model_selection import train_test_split\n",
        "from sklearn.datasets import load_boston\n",
        "import tensorflow as tf\n",
        "from tensorflow import keras\n",
        "import pandas as pd\n",
        "\n",
        "tf.random.set_seed(1)"
      ],
      "execution_count": 0,
      "outputs": []
    },
    {
      "cell_type": "markdown",
      "metadata": {
        "id": "qGGgAUOKwsWA",
        "colab_type": "text"
      },
      "source": [
        "### **Importing the dataset**"
      ]
    },
    {
      "cell_type": "code",
      "metadata": {
        "id": "GOe2azQOdmND",
        "colab_type": "code",
        "colab": {}
      },
      "source": [
        "boston_dataset = load_boston()\n",
        "\n",
        "data_X = pd.DataFrame(boston_dataset.data, columns=boston_dataset.feature_names)\n",
        "data_Y = pd.DataFrame(boston_dataset.target, columns=[\"target\"])\n",
        "data = pd.concat([data_X, data_Y], axis=1)"
      ],
      "execution_count": 0,
      "outputs": []
    },
    {
      "cell_type": "code",
      "metadata": {
        "id": "dA7eh9bCWc3u",
        "colab_type": "code",
        "outputId": "379870e2-9d3c-4698-b521-b8280021de40",
        "colab": {
          "base_uri": "https://localhost:8080/",
          "height": 206
        }
      },
      "source": [
        "data.head()"
      ],
      "execution_count": 3,
      "outputs": [
        {
          "output_type": "execute_result",
          "data": {
            "text/html": [
              "<div>\n",
              "<style scoped>\n",
              "    .dataframe tbody tr th:only-of-type {\n",
              "        vertical-align: middle;\n",
              "    }\n",
              "\n",
              "    .dataframe tbody tr th {\n",
              "        vertical-align: top;\n",
              "    }\n",
              "\n",
              "    .dataframe thead th {\n",
              "        text-align: right;\n",
              "    }\n",
              "</style>\n",
              "<table border=\"1\" class=\"dataframe\">\n",
              "  <thead>\n",
              "    <tr style=\"text-align: right;\">\n",
              "      <th></th>\n",
              "      <th>CRIM</th>\n",
              "      <th>ZN</th>\n",
              "      <th>INDUS</th>\n",
              "      <th>CHAS</th>\n",
              "      <th>NOX</th>\n",
              "      <th>RM</th>\n",
              "      <th>AGE</th>\n",
              "      <th>DIS</th>\n",
              "      <th>RAD</th>\n",
              "      <th>TAX</th>\n",
              "      <th>PTRATIO</th>\n",
              "      <th>B</th>\n",
              "      <th>LSTAT</th>\n",
              "      <th>target</th>\n",
              "    </tr>\n",
              "  </thead>\n",
              "  <tbody>\n",
              "    <tr>\n",
              "      <th>0</th>\n",
              "      <td>0.00632</td>\n",
              "      <td>18.0</td>\n",
              "      <td>2.31</td>\n",
              "      <td>0.0</td>\n",
              "      <td>0.538</td>\n",
              "      <td>6.575</td>\n",
              "      <td>65.2</td>\n",
              "      <td>4.0900</td>\n",
              "      <td>1.0</td>\n",
              "      <td>296.0</td>\n",
              "      <td>15.3</td>\n",
              "      <td>396.90</td>\n",
              "      <td>4.98</td>\n",
              "      <td>24.0</td>\n",
              "    </tr>\n",
              "    <tr>\n",
              "      <th>1</th>\n",
              "      <td>0.02731</td>\n",
              "      <td>0.0</td>\n",
              "      <td>7.07</td>\n",
              "      <td>0.0</td>\n",
              "      <td>0.469</td>\n",
              "      <td>6.421</td>\n",
              "      <td>78.9</td>\n",
              "      <td>4.9671</td>\n",
              "      <td>2.0</td>\n",
              "      <td>242.0</td>\n",
              "      <td>17.8</td>\n",
              "      <td>396.90</td>\n",
              "      <td>9.14</td>\n",
              "      <td>21.6</td>\n",
              "    </tr>\n",
              "    <tr>\n",
              "      <th>2</th>\n",
              "      <td>0.02729</td>\n",
              "      <td>0.0</td>\n",
              "      <td>7.07</td>\n",
              "      <td>0.0</td>\n",
              "      <td>0.469</td>\n",
              "      <td>7.185</td>\n",
              "      <td>61.1</td>\n",
              "      <td>4.9671</td>\n",
              "      <td>2.0</td>\n",
              "      <td>242.0</td>\n",
              "      <td>17.8</td>\n",
              "      <td>392.83</td>\n",
              "      <td>4.03</td>\n",
              "      <td>34.7</td>\n",
              "    </tr>\n",
              "    <tr>\n",
              "      <th>3</th>\n",
              "      <td>0.03237</td>\n",
              "      <td>0.0</td>\n",
              "      <td>2.18</td>\n",
              "      <td>0.0</td>\n",
              "      <td>0.458</td>\n",
              "      <td>6.998</td>\n",
              "      <td>45.8</td>\n",
              "      <td>6.0622</td>\n",
              "      <td>3.0</td>\n",
              "      <td>222.0</td>\n",
              "      <td>18.7</td>\n",
              "      <td>394.63</td>\n",
              "      <td>2.94</td>\n",
              "      <td>33.4</td>\n",
              "    </tr>\n",
              "    <tr>\n",
              "      <th>4</th>\n",
              "      <td>0.06905</td>\n",
              "      <td>0.0</td>\n",
              "      <td>2.18</td>\n",
              "      <td>0.0</td>\n",
              "      <td>0.458</td>\n",
              "      <td>7.147</td>\n",
              "      <td>54.2</td>\n",
              "      <td>6.0622</td>\n",
              "      <td>3.0</td>\n",
              "      <td>222.0</td>\n",
              "      <td>18.7</td>\n",
              "      <td>396.90</td>\n",
              "      <td>5.33</td>\n",
              "      <td>36.2</td>\n",
              "    </tr>\n",
              "  </tbody>\n",
              "</table>\n",
              "</div>"
            ],
            "text/plain": [
              "      CRIM    ZN  INDUS  CHAS    NOX  ...    TAX  PTRATIO       B  LSTAT  target\n",
              "0  0.00632  18.0   2.31   0.0  0.538  ...  296.0     15.3  396.90   4.98    24.0\n",
              "1  0.02731   0.0   7.07   0.0  0.469  ...  242.0     17.8  396.90   9.14    21.6\n",
              "2  0.02729   0.0   7.07   0.0  0.469  ...  242.0     17.8  392.83   4.03    34.7\n",
              "3  0.03237   0.0   2.18   0.0  0.458  ...  222.0     18.7  394.63   2.94    33.4\n",
              "4  0.06905   0.0   2.18   0.0  0.458  ...  222.0     18.7  396.90   5.33    36.2\n",
              "\n",
              "[5 rows x 14 columns]"
            ]
          },
          "metadata": {
            "tags": []
          },
          "execution_count": 3
        }
      ]
    },
    {
      "cell_type": "code",
      "metadata": {
        "id": "gOlts7B7pjgf",
        "colab_type": "code",
        "outputId": "32d0f7fc-4996-4885-e929-7d4baaa4115c",
        "colab": {
          "base_uri": "https://localhost:8080/",
          "height": 52
        }
      },
      "source": [
        "boston_dataset.feature_names"
      ],
      "execution_count": 4,
      "outputs": [
        {
          "output_type": "execute_result",
          "data": {
            "text/plain": [
              "array(['CRIM', 'ZN', 'INDUS', 'CHAS', 'NOX', 'RM', 'AGE', 'DIS', 'RAD',\n",
              "       'TAX', 'PTRATIO', 'B', 'LSTAT'], dtype='<U7')"
            ]
          },
          "metadata": {
            "tags": []
          },
          "execution_count": 4
        }
      ]
    },
    {
      "cell_type": "code",
      "metadata": {
        "id": "9gD5esSxfxjs",
        "colab_type": "code",
        "outputId": "221be1bc-c846-4f4b-9690-7be135b5f528",
        "colab": {
          "base_uri": "https://localhost:8080/",
          "height": 69
        }
      },
      "source": [
        "train, test = train_test_split(data, test_size=0.2, random_state=1)\n",
        "train, val = train_test_split(train, test_size=0.2, random_state=1)\n",
        "print(len(train), \"train examples\")\n",
        "print(len(val), \"validation examples\")\n",
        "print(len(test), \"test examples\")"
      ],
      "execution_count": 5,
      "outputs": [
        {
          "output_type": "stream",
          "text": [
            "323 train examples\n",
            "81 validation examples\n",
            "102 test examples\n"
          ],
          "name": "stdout"
        }
      ]
    },
    {
      "cell_type": "markdown",
      "metadata": {
        "id": "_ZTeC55HxDeT",
        "colab_type": "text"
      },
      "source": [
        "Converting the Pandas DataFrames into Tensorflow Datasets"
      ]
    },
    {
      "cell_type": "code",
      "metadata": {
        "id": "nF4GRPPLdTIe",
        "colab_type": "code",
        "colab": {}
      },
      "source": [
        "def df_to_dataset(dataframe, shuffle=True, batch_size=32):\n",
        "  dataframe = dataframe.copy()\n",
        "  labels = dataframe.pop('target')\n",
        "  ds = tf.data.Dataset.from_tensor_slices((dict(dataframe), labels))\n",
        "  #print(labels)\n",
        "  if shuffle:\n",
        "    ds = ds.shuffle(buffer_size=len(dataframe))\n",
        "  ds = ds.batch(batch_size)\n",
        "  return ds"
      ],
      "execution_count": 0,
      "outputs": []
    },
    {
      "cell_type": "code",
      "metadata": {
        "id": "UdZy7p3AaTRT",
        "colab_type": "code",
        "outputId": "dc473731-7bee-4304-9e91-2bcb2cd70a18",
        "colab": {
          "base_uri": "https://localhost:8080/",
          "height": 69
        }
      },
      "source": [
        "batch_size = 32\n",
        "train_ds = df_to_dataset(train, True, batch_size)\n",
        "val_ds = df_to_dataset(val, False, batch_size)\n",
        "test_ds = df_to_dataset(test, False, batch_size)"
      ],
      "execution_count": 7,
      "outputs": [
        {
          "output_type": "stream",
          "text": [
            "WARNING:tensorflow:From /usr/local/lib/python3.6/dist-packages/tensorflow_core/python/data/util/random_seed.py:58: where (from tensorflow.python.ops.array_ops) is deprecated and will be removed in a future version.\n",
            "Instructions for updating:\n",
            "Use tf.where in 2.0, which has the same broadcast rule as np.where\n"
          ],
          "name": "stdout"
        }
      ]
    },
    {
      "cell_type": "markdown",
      "metadata": {
        "id": "63KuTr4sxMl6",
        "colab_type": "text"
      },
      "source": [
        "### Defining Feature Columns"
      ]
    },
    {
      "cell_type": "code",
      "metadata": {
        "id": "WnoKApwBjv-e",
        "colab_type": "code",
        "outputId": "271acef4-3479-40d5-e8ba-771234afa0ec",
        "colab": {
          "base_uri": "https://localhost:8080/",
          "height": 34
        }
      },
      "source": [
        "\"CRIM \tZN \tINDUS \tCHAS \tNOX \tRM \tAGE \tDIS \tRAD \tTAX \tPTRATIO \tB \tLSTAT\".lower()"
      ],
      "execution_count": 8,
      "outputs": [
        {
          "output_type": "execute_result",
          "data": {
            "text/plain": [
              "'crim \\tzn \\tindus \\tchas \\tnox \\trm \\tage \\tdis \\trad \\ttax \\tptratio \\tb \\tlstat'"
            ]
          },
          "metadata": {
            "tags": []
          },
          "execution_count": 8
        }
      ]
    },
    {
      "cell_type": "code",
      "metadata": {
        "id": "o_k0oq3PkRM6",
        "colab_type": "code",
        "colab": {}
      },
      "source": [
        "feat = [\"crim\" ,\"zn\" ,\"indus\" ,\"chas\" ,\"nox\" ,\"rm\" ,\"age\" ,\"dis\" ,\"rad\" ,\"tax\" ,\"ptratio\" ,\"tb\" ,\"lstat\"]"
      ],
      "execution_count": 0,
      "outputs": []
    },
    {
      "cell_type": "code",
      "metadata": {
        "id": "380jHjPokFUy",
        "colab_type": "code",
        "outputId": "4aa1ad08-0fa5-476d-b543-66c5a6983a23",
        "colab": {
          "base_uri": "https://localhost:8080/",
          "height": 243
        }
      },
      "source": [
        "# define feature_columns as a list of features using functions from tf.feature_column\n",
        "#crim = tf.feature_column.numeric_column(\"crim\")\n",
        "feature_columns = []\n",
        "for header in ['CRIM', 'ZN', 'INDUS', 'CHAS', 'NOX', 'RM', 'AGE', 'DIS', 'RAD','TAX', 'PTRATIO', 'B', 'LSTAT']:\n",
        "  feature_columns.append(tf.feature_column.numeric_column(header))\n",
        "\n",
        "\n",
        "feature_columns"
      ],
      "execution_count": 10,
      "outputs": [
        {
          "output_type": "execute_result",
          "data": {
            "text/plain": [
              "[NumericColumn(key='CRIM', shape=(1,), default_value=None, dtype=tf.float32, normalizer_fn=None),\n",
              " NumericColumn(key='ZN', shape=(1,), default_value=None, dtype=tf.float32, normalizer_fn=None),\n",
              " NumericColumn(key='INDUS', shape=(1,), default_value=None, dtype=tf.float32, normalizer_fn=None),\n",
              " NumericColumn(key='CHAS', shape=(1,), default_value=None, dtype=tf.float32, normalizer_fn=None),\n",
              " NumericColumn(key='NOX', shape=(1,), default_value=None, dtype=tf.float32, normalizer_fn=None),\n",
              " NumericColumn(key='RM', shape=(1,), default_value=None, dtype=tf.float32, normalizer_fn=None),\n",
              " NumericColumn(key='AGE', shape=(1,), default_value=None, dtype=tf.float32, normalizer_fn=None),\n",
              " NumericColumn(key='DIS', shape=(1,), default_value=None, dtype=tf.float32, normalizer_fn=None),\n",
              " NumericColumn(key='RAD', shape=(1,), default_value=None, dtype=tf.float32, normalizer_fn=None),\n",
              " NumericColumn(key='TAX', shape=(1,), default_value=None, dtype=tf.float32, normalizer_fn=None),\n",
              " NumericColumn(key='PTRATIO', shape=(1,), default_value=None, dtype=tf.float32, normalizer_fn=None),\n",
              " NumericColumn(key='B', shape=(1,), default_value=None, dtype=tf.float32, normalizer_fn=None),\n",
              " NumericColumn(key='LSTAT', shape=(1,), default_value=None, dtype=tf.float32, normalizer_fn=None)]"
            ]
          },
          "metadata": {
            "tags": []
          },
          "execution_count": 10
        }
      ]
    },
    {
      "cell_type": "markdown",
      "metadata": {
        "id": "ykVCMrdMxVB5",
        "colab_type": "text"
      },
      "source": [
        "### Building the model"
      ]
    },
    {
      "cell_type": "code",
      "metadata": {
        "id": "oAc9LpVzqql9",
        "colab_type": "code",
        "colab": {}
      },
      "source": [
        "feature_layer = tf.keras.layers.DenseFeatures(feature_columns)"
      ],
      "execution_count": 0,
      "outputs": []
    },
    {
      "cell_type": "markdown",
      "metadata": {
        "id": "y6B9FgRyyGXe",
        "colab_type": "text"
      },
      "source": [
        "Model should contain following layers:\n",
        "\n",
        "```\n",
        "feature_layer\n",
        "\n",
        "Dense(1, activation=None)\n",
        "```\n",
        "\n",
        "Use 'Adam' optimizer\n",
        "\n",
        "Use 'mse' as your loss and metric"
      ]
    },
    {
      "cell_type": "code",
      "metadata": {
        "id": "ZInuZ8D0xsu1",
        "colab_type": "code",
        "colab": {}
      },
      "source": [
        "# Build and compile your model in this cell.\n",
        "model = tf.keras.Sequential([\n",
        "                          feature_layer,\n",
        "                          keras.layers.Dense(1, activation = None)\n",
        "])\n",
        "\n",
        "model.compile(optimizer='adam', loss ='mse', metrics = ['mse'])"
      ],
      "execution_count": 0,
      "outputs": []
    },
    {
      "cell_type": "code",
      "metadata": {
        "id": "Igdzl3wasRo6",
        "colab_type": "code",
        "outputId": "48e6cb45-5696-49d2-8566-7b39334b829d",
        "colab": {
          "base_uri": "https://localhost:8080/",
          "height": 1000
        }
      },
      "source": [
        "model.fit(train_ds, validation_data=val_ds, epochs=200)"
      ],
      "execution_count": 13,
      "outputs": [
        {
          "output_type": "stream",
          "text": [
            "WARNING:tensorflow:Layer sequential is casting an input tensor from dtype float64 to the layer's dtype of float32, which is new behavior in TensorFlow 2.  The layer has dtype float32 because it's dtype defaults to floatx.\n",
            "\n",
            "If you intended to run this layer in float32, you can safely ignore this warning. If in doubt, this warning is likely only an issue if you are porting a TensorFlow 1.X model to TensorFlow 2.\n",
            "\n",
            "To change all layers to have dtype float64 by default, call `tf.keras.backend.set_floatx('float64')`. To change just this layer, pass dtype='float64' to the layer constructor. If you are the author of this layer, you can disable autocasting by passing autocast=False to the base Layer constructor.\n",
            "\n",
            "Epoch 1/200\n",
            "11/11 [==============================] - 1s 89ms/step - loss: 985.9616 - mse: 988.6481 - val_loss: 0.0000e+00 - val_mse: 0.0000e+00\n",
            "Epoch 2/200\n",
            "11/11 [==============================] - 0s 4ms/step - loss: 797.9236 - mse: 798.4239 - val_loss: 720.6548 - val_mse: 761.9006\n",
            "Epoch 3/200\n",
            "11/11 [==============================] - 0s 4ms/step - loss: 714.0719 - mse: 711.1050 - val_loss: 636.5079 - val_mse: 681.6567\n",
            "Epoch 4/200\n",
            "11/11 [==============================] - 0s 4ms/step - loss: 626.9859 - mse: 639.4360 - val_loss: 567.2516 - val_mse: 605.9613\n",
            "Epoch 5/200\n",
            "11/11 [==============================] - 0s 4ms/step - loss: 564.1633 - mse: 566.4529 - val_loss: 501.9911 - val_mse: 532.5299\n",
            "Epoch 6/200\n",
            "11/11 [==============================] - 0s 4ms/step - loss: 499.3947 - mse: 498.2944 - val_loss: 442.0762 - val_mse: 468.5482\n",
            "Epoch 7/200\n",
            "11/11 [==============================] - 0s 4ms/step - loss: 439.1318 - mse: 439.6550 - val_loss: 383.7839 - val_mse: 409.4518\n",
            "Epoch 8/200\n",
            "11/11 [==============================] - 0s 5ms/step - loss: 394.3126 - mse: 392.1886 - val_loss: 338.5196 - val_mse: 360.2014\n",
            "Epoch 9/200\n",
            "11/11 [==============================] - 0s 5ms/step - loss: 348.0128 - mse: 345.7688 - val_loss: 295.1721 - val_mse: 315.8237\n",
            "Epoch 10/200\n",
            "11/11 [==============================] - 0s 5ms/step - loss: 308.8616 - mse: 307.8467 - val_loss: 258.4678 - val_mse: 278.8258\n",
            "Epoch 11/200\n",
            "11/11 [==============================] - 0s 4ms/step - loss: 278.4402 - mse: 279.2024 - val_loss: 227.8079 - val_mse: 246.9279\n",
            "Epoch 12/200\n",
            "11/11 [==============================] - 0s 4ms/step - loss: 249.3054 - mse: 249.1968 - val_loss: 206.1638 - val_mse: 221.4538\n",
            "Epoch 13/200\n",
            "11/11 [==============================] - 0s 4ms/step - loss: 222.7272 - mse: 224.9404 - val_loss: 189.5972 - val_mse: 202.2397\n",
            "Epoch 14/200\n",
            "11/11 [==============================] - 0s 4ms/step - loss: 202.3472 - mse: 201.7188 - val_loss: 166.7271 - val_mse: 178.5876\n",
            "Epoch 15/200\n",
            "11/11 [==============================] - 0s 4ms/step - loss: 181.1473 - mse: 181.8301 - val_loss: 145.4243 - val_mse: 157.1369\n",
            "Epoch 16/200\n",
            "11/11 [==============================] - 0s 4ms/step - loss: 166.1267 - mse: 164.8135 - val_loss: 127.5434 - val_mse: 139.7814\n",
            "Epoch 17/200\n",
            "11/11 [==============================] - 0s 4ms/step - loss: 152.4587 - mse: 151.9266 - val_loss: 117.8083 - val_mse: 129.1064\n",
            "Epoch 18/200\n",
            "11/11 [==============================] - 0s 4ms/step - loss: 134.1876 - mse: 141.0181 - val_loss: 110.2117 - val_mse: 120.7499\n",
            "Epoch 19/200\n",
            "11/11 [==============================] - 0s 4ms/step - loss: 134.1351 - mse: 133.7075 - val_loss: 107.5306 - val_mse: 117.0133\n",
            "Epoch 20/200\n",
            "11/11 [==============================] - 0s 4ms/step - loss: 125.9437 - mse: 125.5543 - val_loss: 97.3802 - val_mse: 107.0627\n",
            "Epoch 21/200\n",
            "11/11 [==============================] - 0s 4ms/step - loss: 118.6400 - mse: 117.7047 - val_loss: 88.7082 - val_mse: 98.8552\n",
            "Epoch 22/200\n",
            "11/11 [==============================] - 0s 4ms/step - loss: 113.7695 - mse: 113.6678 - val_loss: 85.2602 - val_mse: 95.2209\n",
            "Epoch 23/200\n",
            "11/11 [==============================] - 0s 4ms/step - loss: 108.3405 - mse: 109.5427 - val_loss: 83.8129 - val_mse: 93.3870\n",
            "Epoch 24/200\n",
            "11/11 [==============================] - 0s 4ms/step - loss: 108.0057 - mse: 107.4467 - val_loss: 79.8296 - val_mse: 89.6663\n",
            "Epoch 25/200\n",
            "11/11 [==============================] - 0s 5ms/step - loss: 105.3540 - mse: 104.9913 - val_loss: 78.4517 - val_mse: 88.0721\n",
            "Epoch 26/200\n",
            "11/11 [==============================] - 0s 4ms/step - loss: 101.8175 - mse: 102.0800 - val_loss: 78.6346 - val_mse: 87.9736\n",
            "Epoch 27/200\n",
            "11/11 [==============================] - 0s 4ms/step - loss: 99.4087 - mse: 100.2660 - val_loss: 76.6231 - val_mse: 85.9677\n",
            "Epoch 28/200\n",
            "11/11 [==============================] - 0s 5ms/step - loss: 99.1127 - mse: 98.3700 - val_loss: 74.6683 - val_mse: 84.0364\n",
            "Epoch 29/200\n",
            "11/11 [==============================] - 0s 5ms/step - loss: 95.1067 - mse: 97.0655 - val_loss: 72.5402 - val_mse: 82.0093\n",
            "Epoch 30/200\n",
            "11/11 [==============================] - 0s 4ms/step - loss: 97.2108 - mse: 96.5230 - val_loss: 71.1894 - val_mse: 80.7056\n",
            "Epoch 31/200\n",
            "11/11 [==============================] - 0s 5ms/step - loss: 95.2475 - mse: 94.7541 - val_loss: 72.0375 - val_mse: 81.3793\n",
            "Epoch 32/200\n",
            "11/11 [==============================] - 0s 4ms/step - loss: 94.3860 - mse: 93.6374 - val_loss: 71.4015 - val_mse: 80.7411\n",
            "Epoch 33/200\n",
            "11/11 [==============================] - 0s 4ms/step - loss: 93.5923 - mse: 92.9091 - val_loss: 70.8830 - val_mse: 80.2185\n",
            "Epoch 34/200\n",
            "11/11 [==============================] - 0s 4ms/step - loss: 92.5417 - mse: 92.1997 - val_loss: 69.9485 - val_mse: 79.3046\n",
            "Epoch 35/200\n",
            "11/11 [==============================] - 0s 5ms/step - loss: 92.0958 - mse: 91.4710 - val_loss: 68.8961 - val_mse: 78.2745\n",
            "Epoch 36/200\n",
            "11/11 [==============================] - 0s 5ms/step - loss: 91.2208 - mse: 91.2316 - val_loss: 68.9218 - val_mse: 78.2526\n",
            "Epoch 37/200\n",
            "11/11 [==============================] - 0s 4ms/step - loss: 91.2579 - mse: 90.7573 - val_loss: 68.3124 - val_mse: 77.6221\n",
            "Epoch 38/200\n",
            "11/11 [==============================] - 0s 4ms/step - loss: 91.0235 - mse: 90.4190 - val_loss: 68.6132 - val_mse: 77.8679\n",
            "Epoch 39/200\n",
            "11/11 [==============================] - 0s 4ms/step - loss: 89.9516 - mse: 89.3621 - val_loss: 68.0294 - val_mse: 77.2865\n",
            "Epoch 40/200\n",
            "11/11 [==============================] - 0s 5ms/step - loss: 87.7347 - mse: 88.7900 - val_loss: 68.1557 - val_mse: 77.3908\n",
            "Epoch 41/200\n",
            "11/11 [==============================] - 0s 4ms/step - loss: 88.6609 - mse: 88.1405 - val_loss: 67.2272 - val_mse: 76.4345\n",
            "Epoch 42/200\n",
            "11/11 [==============================] - 0s 4ms/step - loss: 87.4075 - mse: 87.7978 - val_loss: 66.8388 - val_mse: 76.0240\n",
            "Epoch 43/200\n",
            "11/11 [==============================] - 0s 4ms/step - loss: 87.7309 - mse: 87.7153 - val_loss: 68.6154 - val_mse: 77.7465\n",
            "Epoch 44/200\n",
            "11/11 [==============================] - 0s 4ms/step - loss: 87.3550 - mse: 86.7056 - val_loss: 66.2607 - val_mse: 75.4043\n",
            "Epoch 45/200\n",
            "11/11 [==============================] - 0s 4ms/step - loss: 84.5926 - mse: 86.2196 - val_loss: 66.1375 - val_mse: 75.2521\n",
            "Epoch 46/200\n",
            "11/11 [==============================] - 0s 4ms/step - loss: 83.5704 - mse: 85.7377 - val_loss: 67.7525 - val_mse: 76.8374\n",
            "Epoch 47/200\n",
            "11/11 [==============================] - 0s 4ms/step - loss: 86.9534 - mse: 86.4655 - val_loss: 64.6419 - val_mse: 73.7043\n",
            "Epoch 48/200\n",
            "11/11 [==============================] - 0s 4ms/step - loss: 86.2663 - mse: 85.7774 - val_loss: 64.6583 - val_mse: 73.6550\n",
            "Epoch 49/200\n",
            "11/11 [==============================] - 0s 4ms/step - loss: 81.8595 - mse: 84.0860 - val_loss: 66.5572 - val_mse: 75.4923\n",
            "Epoch 50/200\n",
            "11/11 [==============================] - 0s 4ms/step - loss: 84.7021 - mse: 84.0734 - val_loss: 66.3874 - val_mse: 75.2926\n",
            "Epoch 51/200\n",
            "11/11 [==============================] - 0s 4ms/step - loss: 83.5629 - mse: 83.5698 - val_loss: 64.3854 - val_mse: 73.2902\n",
            "Epoch 52/200\n",
            "11/11 [==============================] - 0s 4ms/step - loss: 83.3613 - mse: 82.9573 - val_loss: 64.0404 - val_mse: 72.9197\n",
            "Epoch 53/200\n",
            "11/11 [==============================] - 0s 4ms/step - loss: 83.3860 - mse: 82.7202 - val_loss: 65.1387 - val_mse: 73.9981\n",
            "Epoch 54/200\n",
            "11/11 [==============================] - 0s 5ms/step - loss: 82.7841 - mse: 82.7475 - val_loss: 63.7374 - val_mse: 72.5572\n",
            "Epoch 55/200\n",
            "11/11 [==============================] - 0s 5ms/step - loss: 81.9743 - mse: 81.4626 - val_loss: 65.9343 - val_mse: 74.7422\n",
            "Epoch 56/200\n",
            "11/11 [==============================] - 0s 5ms/step - loss: 82.0746 - mse: 81.6248 - val_loss: 63.7029 - val_mse: 72.4867\n",
            "Epoch 57/200\n",
            "11/11 [==============================] - 0s 4ms/step - loss: 81.1744 - mse: 80.7605 - val_loss: 62.6121 - val_mse: 71.3791\n",
            "Epoch 58/200\n",
            "11/11 [==============================] - 0s 4ms/step - loss: 81.3071 - mse: 81.0041 - val_loss: 62.2787 - val_mse: 71.0169\n",
            "Epoch 59/200\n",
            "11/11 [==============================] - 0s 4ms/step - loss: 80.2871 - mse: 80.1231 - val_loss: 63.9603 - val_mse: 72.6679\n",
            "Epoch 60/200\n",
            "11/11 [==============================] - 0s 4ms/step - loss: 79.9567 - mse: 80.1470 - val_loss: 62.8226 - val_mse: 71.5066\n",
            "Epoch 61/200\n",
            "11/11 [==============================] - 0s 4ms/step - loss: 81.4302 - mse: 80.9744 - val_loss: 61.2956 - val_mse: 69.8990\n",
            "Epoch 62/200\n",
            "11/11 [==============================] - 0s 4ms/step - loss: 79.9021 - mse: 79.2431 - val_loss: 62.0341 - val_mse: 70.5782\n",
            "Epoch 63/200\n",
            "11/11 [==============================] - 0s 4ms/step - loss: 79.3284 - mse: 78.6816 - val_loss: 62.4217 - val_mse: 70.9373\n",
            "Epoch 64/200\n",
            "11/11 [==============================] - 0s 4ms/step - loss: 78.9524 - mse: 78.3187 - val_loss: 61.0586 - val_mse: 69.5372\n",
            "Epoch 65/200\n",
            "11/11 [==============================] - 0s 4ms/step - loss: 78.5850 - mse: 77.9980 - val_loss: 61.1791 - val_mse: 69.6263\n",
            "Epoch 66/200\n",
            "11/11 [==============================] - 0s 4ms/step - loss: 78.1048 - mse: 77.4785 - val_loss: 60.5732 - val_mse: 68.9992\n",
            "Epoch 67/200\n",
            "11/11 [==============================] - 0s 5ms/step - loss: 77.5888 - mse: 77.2931 - val_loss: 60.6361 - val_mse: 69.0239\n",
            "Epoch 68/200\n",
            "11/11 [==============================] - 0s 4ms/step - loss: 77.7179 - mse: 77.1645 - val_loss: 59.8012 - val_mse: 68.1332\n",
            "Epoch 69/200\n",
            "11/11 [==============================] - 0s 5ms/step - loss: 76.3981 - mse: 76.4775 - val_loss: 60.2847 - val_mse: 68.5808\n",
            "Epoch 70/200\n",
            "11/11 [==============================] - 0s 5ms/step - loss: 76.8616 - mse: 76.7346 - val_loss: 59.1785 - val_mse: 67.3985\n",
            "Epoch 71/200\n",
            "11/11 [==============================] - 0s 4ms/step - loss: 76.1872 - mse: 76.1201 - val_loss: 59.3877 - val_mse: 67.5933\n",
            "Epoch 72/200\n",
            "11/11 [==============================] - 0s 4ms/step - loss: 74.6019 - mse: 75.9878 - val_loss: 61.5042 - val_mse: 69.6760\n",
            "Epoch 73/200\n",
            "11/11 [==============================] - 0s 4ms/step - loss: 76.7107 - mse: 76.3302 - val_loss: 58.6408 - val_mse: 66.7956\n",
            "Epoch 74/200\n",
            "11/11 [==============================] - 0s 4ms/step - loss: 75.2488 - mse: 74.7854 - val_loss: 59.3910 - val_mse: 67.5135\n",
            "Epoch 75/200\n",
            "11/11 [==============================] - 0s 4ms/step - loss: 74.5213 - mse: 74.2802 - val_loss: 58.9253 - val_mse: 67.0389\n",
            "Epoch 76/200\n",
            "11/11 [==============================] - 0s 4ms/step - loss: 72.1555 - mse: 74.0992 - val_loss: 58.8268 - val_mse: 66.9312\n",
            "Epoch 77/200\n",
            "11/11 [==============================] - 0s 4ms/step - loss: 70.8467 - mse: 73.1190 - val_loss: 57.8578 - val_mse: 65.8880\n",
            "Epoch 78/200\n",
            "11/11 [==============================] - 0s 4ms/step - loss: 75.5349 - mse: 75.1004 - val_loss: 57.6936 - val_mse: 65.6991\n",
            "Epoch 79/200\n",
            "11/11 [==============================] - 0s 4ms/step - loss: 72.5193 - mse: 73.0132 - val_loss: 58.5704 - val_mse: 66.6029\n",
            "Epoch 80/200\n",
            "11/11 [==============================] - 0s 5ms/step - loss: 73.8118 - mse: 73.2230 - val_loss: 60.6099 - val_mse: 68.6848\n",
            "Epoch 81/200\n",
            "11/11 [==============================] - 0s 5ms/step - loss: 72.6607 - mse: 72.6161 - val_loss: 57.8758 - val_mse: 65.8745\n",
            "Epoch 82/200\n",
            "11/11 [==============================] - 0s 5ms/step - loss: 73.4778 - mse: 72.8969 - val_loss: 57.0547 - val_mse: 65.0136\n",
            "Epoch 83/200\n",
            "11/11 [==============================] - 0s 4ms/step - loss: 71.9713 - mse: 71.5401 - val_loss: 57.4850 - val_mse: 65.4514\n",
            "Epoch 84/200\n",
            "11/11 [==============================] - 0s 5ms/step - loss: 70.3376 - mse: 71.2065 - val_loss: 57.8403 - val_mse: 65.7808\n",
            "Epoch 85/200\n",
            "11/11 [==============================] - 0s 5ms/step - loss: 73.7555 - mse: 73.2934 - val_loss: 59.9565 - val_mse: 67.9425\n",
            "Epoch 86/200\n",
            "11/11 [==============================] - 0s 4ms/step - loss: 73.0962 - mse: 73.0728 - val_loss: 56.1874 - val_mse: 64.0089\n",
            "Epoch 87/200\n",
            "11/11 [==============================] - 0s 4ms/step - loss: 70.6782 - mse: 70.1912 - val_loss: 57.4304 - val_mse: 65.2606\n",
            "Epoch 88/200\n",
            "11/11 [==============================] - 0s 4ms/step - loss: 67.1271 - mse: 70.1018 - val_loss: 57.2775 - val_mse: 65.0842\n",
            "Epoch 89/200\n",
            "11/11 [==============================] - 0s 5ms/step - loss: 71.2043 - mse: 70.7882 - val_loss: 58.5695 - val_mse: 66.4031\n",
            "Epoch 90/200\n",
            "11/11 [==============================] - 0s 4ms/step - loss: 68.8543 - mse: 69.3853 - val_loss: 55.3772 - val_mse: 63.0717\n",
            "Epoch 91/200\n",
            "11/11 [==============================] - 0s 5ms/step - loss: 69.3798 - mse: 68.9119 - val_loss: 55.3657 - val_mse: 63.0521\n",
            "Epoch 92/200\n",
            "11/11 [==============================] - 0s 4ms/step - loss: 66.9636 - mse: 68.3030 - val_loss: 56.2053 - val_mse: 63.8985\n",
            "Epoch 93/200\n",
            "11/11 [==============================] - 0s 4ms/step - loss: 67.2897 - mse: 69.1146 - val_loss: 57.4117 - val_mse: 65.1640\n",
            "Epoch 94/200\n",
            "11/11 [==============================] - 0s 4ms/step - loss: 69.9438 - mse: 69.3813 - val_loss: 54.9437 - val_mse: 62.4785\n",
            "Epoch 95/200\n",
            "11/11 [==============================] - 0s 4ms/step - loss: 68.7565 - mse: 68.4683 - val_loss: 54.6645 - val_mse: 62.2231\n",
            "Epoch 96/200\n",
            "11/11 [==============================] - 0s 5ms/step - loss: 67.2877 - mse: 66.9264 - val_loss: 54.7133 - val_mse: 62.2587\n",
            "Epoch 97/200\n",
            "11/11 [==============================] - 0s 4ms/step - loss: 66.7874 - mse: 66.6004 - val_loss: 54.8908 - val_mse: 62.4077\n",
            "Epoch 98/200\n",
            "11/11 [==============================] - 0s 5ms/step - loss: 66.6654 - mse: 66.4186 - val_loss: 54.2433 - val_mse: 61.7029\n",
            "Epoch 99/200\n",
            "11/11 [==============================] - 0s 4ms/step - loss: 67.2251 - mse: 67.3346 - val_loss: 53.6779 - val_mse: 61.0676\n",
            "Epoch 100/200\n",
            "11/11 [==============================] - 0s 4ms/step - loss: 66.4274 - mse: 65.9897 - val_loss: 53.4792 - val_mse: 60.7765\n",
            "Epoch 101/200\n",
            "11/11 [==============================] - 0s 4ms/step - loss: 66.2502 - mse: 66.1158 - val_loss: 54.6390 - val_mse: 61.9383\n",
            "Epoch 102/200\n",
            "11/11 [==============================] - 0s 4ms/step - loss: 65.5350 - mse: 65.6540 - val_loss: 53.0176 - val_mse: 60.2635\n",
            "Epoch 103/200\n",
            "11/11 [==============================] - 0s 5ms/step - loss: 65.7350 - mse: 65.2815 - val_loss: 52.9769 - val_mse: 60.1759\n",
            "Epoch 104/200\n",
            "11/11 [==============================] - 0s 4ms/step - loss: 65.2389 - mse: 65.0055 - val_loss: 53.1711 - val_mse: 60.3553\n",
            "Epoch 105/200\n",
            "11/11 [==============================] - 0s 4ms/step - loss: 63.9661 - mse: 64.5143 - val_loss: 52.4838 - val_mse: 59.6205\n",
            "Epoch 106/200\n",
            "11/11 [==============================] - 0s 5ms/step - loss: 64.2673 - mse: 64.7669 - val_loss: 52.2848 - val_mse: 59.4183\n",
            "Epoch 107/200\n",
            "11/11 [==============================] - 0s 5ms/step - loss: 64.5531 - mse: 64.6682 - val_loss: 52.2645 - val_mse: 59.3761\n",
            "Epoch 108/200\n",
            "11/11 [==============================] - 0s 5ms/step - loss: 64.2247 - mse: 63.8910 - val_loss: 53.0513 - val_mse: 60.1956\n",
            "Epoch 109/200\n",
            "11/11 [==============================] - 0s 5ms/step - loss: 62.8455 - mse: 63.7411 - val_loss: 52.4899 - val_mse: 59.5747\n",
            "Epoch 110/200\n",
            "11/11 [==============================] - 0s 5ms/step - loss: 62.3587 - mse: 63.4013 - val_loss: 51.8337 - val_mse: 58.8926\n",
            "Epoch 111/200\n",
            "11/11 [==============================] - 0s 4ms/step - loss: 62.2049 - mse: 63.5841 - val_loss: 51.4818 - val_mse: 58.4591\n",
            "Epoch 112/200\n",
            "11/11 [==============================] - 0s 4ms/step - loss: 63.2226 - mse: 64.5811 - val_loss: 51.3860 - val_mse: 58.3263\n",
            "Epoch 113/200\n",
            "11/11 [==============================] - 0s 5ms/step - loss: 63.8825 - mse: 63.5915 - val_loss: 51.1157 - val_mse: 58.0552\n",
            "Epoch 114/200\n",
            "11/11 [==============================] - 0s 5ms/step - loss: 63.3494 - mse: 62.9922 - val_loss: 51.9948 - val_mse: 58.9390\n",
            "Epoch 115/200\n",
            "11/11 [==============================] - 0s 5ms/step - loss: 61.2696 - mse: 62.1850 - val_loss: 51.5199 - val_mse: 58.4545\n",
            "Epoch 116/200\n",
            "11/11 [==============================] - 0s 5ms/step - loss: 61.9896 - mse: 61.8321 - val_loss: 51.2008 - val_mse: 58.1461\n",
            "Epoch 117/200\n",
            "11/11 [==============================] - 0s 4ms/step - loss: 61.9706 - mse: 61.5207 - val_loss: 51.3096 - val_mse: 58.2428\n",
            "Epoch 118/200\n",
            "11/11 [==============================] - 0s 5ms/step - loss: 61.5597 - mse: 61.2415 - val_loss: 50.9000 - val_mse: 57.7997\n",
            "Epoch 119/200\n",
            "11/11 [==============================] - 0s 5ms/step - loss: 61.4702 - mse: 61.0748 - val_loss: 50.5812 - val_mse: 57.4333\n",
            "Epoch 120/200\n",
            "11/11 [==============================] - 0s 5ms/step - loss: 61.5511 - mse: 61.1138 - val_loss: 50.7151 - val_mse: 57.5640\n",
            "Epoch 121/200\n",
            "11/11 [==============================] - 0s 4ms/step - loss: 60.6168 - mse: 61.0009 - val_loss: 50.2357 - val_mse: 57.0600\n",
            "Epoch 122/200\n",
            "11/11 [==============================] - 0s 4ms/step - loss: 60.4663 - mse: 61.3571 - val_loss: 53.4046 - val_mse: 60.3844\n",
            "Epoch 123/200\n",
            "11/11 [==============================] - 0s 4ms/step - loss: 62.8220 - mse: 63.0395 - val_loss: 53.3819 - val_mse: 60.4010\n",
            "Epoch 124/200\n",
            "11/11 [==============================] - 0s 5ms/step - loss: 61.4974 - mse: 61.1853 - val_loss: 50.7891 - val_mse: 57.7058\n",
            "Epoch 125/200\n",
            "11/11 [==============================] - 0s 5ms/step - loss: 59.4686 - mse: 59.5181 - val_loss: 49.6146 - val_mse: 56.3736\n",
            "Epoch 126/200\n",
            "11/11 [==============================] - 0s 5ms/step - loss: 60.8551 - mse: 60.3896 - val_loss: 50.3888 - val_mse: 57.1997\n",
            "Epoch 127/200\n",
            "11/11 [==============================] - 0s 4ms/step - loss: 59.2115 - mse: 59.2823 - val_loss: 49.9920 - val_mse: 56.7362\n",
            "Epoch 128/200\n",
            "11/11 [==============================] - 0s 5ms/step - loss: 59.3307 - mse: 59.9414 - val_loss: 50.2024 - val_mse: 56.9581\n",
            "Epoch 129/200\n",
            "11/11 [==============================] - 0s 4ms/step - loss: 58.0342 - mse: 59.5432 - val_loss: 49.0892 - val_mse: 55.6459\n",
            "Epoch 130/200\n",
            "11/11 [==============================] - 0s 5ms/step - loss: 59.9790 - mse: 59.8490 - val_loss: 48.8362 - val_mse: 55.4029\n",
            "Epoch 131/200\n",
            "11/11 [==============================] - 0s 5ms/step - loss: 58.8250 - mse: 58.4661 - val_loss: 49.7062 - val_mse: 56.2994\n",
            "Epoch 132/200\n",
            "11/11 [==============================] - 0s 5ms/step - loss: 58.8456 - mse: 58.6216 - val_loss: 49.2897 - val_mse: 55.8356\n",
            "Epoch 133/200\n",
            "11/11 [==============================] - 0s 5ms/step - loss: 58.6818 - mse: 58.3427 - val_loss: 48.2831 - val_mse: 54.7036\n",
            "Epoch 134/200\n",
            "11/11 [==============================] - 0s 4ms/step - loss: 57.8279 - mse: 57.7191 - val_loss: 49.4312 - val_mse: 55.9535\n",
            "Epoch 135/200\n",
            "11/11 [==============================] - 0s 4ms/step - loss: 57.4385 - mse: 57.7326 - val_loss: 48.4989 - val_mse: 54.9807\n",
            "Epoch 136/200\n",
            "11/11 [==============================] - 0s 4ms/step - loss: 58.8860 - mse: 58.5023 - val_loss: 48.0104 - val_mse: 54.4164\n",
            "Epoch 137/200\n",
            "11/11 [==============================] - 0s 5ms/step - loss: 55.7481 - mse: 57.2106 - val_loss: 48.4489 - val_mse: 54.9213\n",
            "Epoch 138/200\n",
            "11/11 [==============================] - 0s 4ms/step - loss: 57.7846 - mse: 57.5447 - val_loss: 47.7395 - val_mse: 54.0867\n",
            "Epoch 139/200\n",
            "11/11 [==============================] - 0s 4ms/step - loss: 57.2757 - mse: 57.0772 - val_loss: 48.8068 - val_mse: 55.2136\n",
            "Epoch 140/200\n",
            "11/11 [==============================] - 0s 4ms/step - loss: 57.1748 - mse: 56.9097 - val_loss: 47.7054 - val_mse: 54.0216\n",
            "Epoch 141/200\n",
            "11/11 [==============================] - 0s 4ms/step - loss: 56.7748 - mse: 56.6565 - val_loss: 47.5941 - val_mse: 53.8824\n",
            "Epoch 142/200\n",
            "11/11 [==============================] - 0s 4ms/step - loss: 56.0147 - mse: 56.2832 - val_loss: 48.2609 - val_mse: 54.6079\n",
            "Epoch 143/200\n",
            "11/11 [==============================] - 0s 4ms/step - loss: 56.8003 - mse: 56.5879 - val_loss: 48.5404 - val_mse: 54.9489\n",
            "Epoch 144/200\n",
            "11/11 [==============================] - 0s 4ms/step - loss: 55.5463 - mse: 56.1641 - val_loss: 47.6284 - val_mse: 54.0059\n",
            "Epoch 145/200\n",
            "11/11 [==============================] - 0s 5ms/step - loss: 57.0842 - mse: 56.6372 - val_loss: 47.2425 - val_mse: 53.5522\n",
            "Epoch 146/200\n",
            "11/11 [==============================] - 0s 5ms/step - loss: 56.5151 - mse: 56.2419 - val_loss: 48.0292 - val_mse: 54.4678\n",
            "Epoch 147/200\n",
            "11/11 [==============================] - 0s 4ms/step - loss: 55.6592 - mse: 56.0272 - val_loss: 47.9086 - val_mse: 54.3350\n",
            "Epoch 148/200\n",
            "11/11 [==============================] - 0s 4ms/step - loss: 55.4549 - mse: 55.3111 - val_loss: 46.9845 - val_mse: 53.2844\n",
            "Epoch 149/200\n",
            "11/11 [==============================] - 0s 4ms/step - loss: 55.9996 - mse: 55.5507 - val_loss: 47.3154 - val_mse: 53.6882\n",
            "Epoch 150/200\n",
            "11/11 [==============================] - 0s 5ms/step - loss: 55.6793 - mse: 55.2573 - val_loss: 47.4028 - val_mse: 53.7706\n",
            "Epoch 151/200\n",
            "11/11 [==============================] - 0s 5ms/step - loss: 55.5243 - mse: 55.0704 - val_loss: 47.2655 - val_mse: 53.5614\n",
            "Epoch 152/200\n",
            "11/11 [==============================] - 0s 4ms/step - loss: 54.9062 - mse: 54.7264 - val_loss: 46.6691 - val_mse: 52.8696\n",
            "Epoch 153/200\n",
            "11/11 [==============================] - 0s 5ms/step - loss: 54.9993 - mse: 54.6160 - val_loss: 46.5830 - val_mse: 52.7501\n",
            "Epoch 154/200\n",
            "11/11 [==============================] - 0s 5ms/step - loss: 54.7375 - mse: 54.3950 - val_loss: 46.7326 - val_mse: 52.8860\n",
            "Epoch 155/200\n",
            "11/11 [==============================] - 0s 5ms/step - loss: 53.8862 - mse: 54.3700 - val_loss: 46.1433 - val_mse: 52.2089\n",
            "Epoch 156/200\n",
            "11/11 [==============================] - 0s 5ms/step - loss: 56.1830 - mse: 56.0806 - val_loss: 46.1613 - val_mse: 52.1021\n",
            "Epoch 157/200\n",
            "11/11 [==============================] - 0s 4ms/step - loss: 54.8959 - mse: 54.8208 - val_loss: 46.6842 - val_mse: 52.7531\n",
            "Epoch 158/200\n",
            "11/11 [==============================] - 0s 4ms/step - loss: 53.2798 - mse: 54.0721 - val_loss: 46.2126 - val_mse: 52.2534\n",
            "Epoch 159/200\n",
            "11/11 [==============================] - 0s 5ms/step - loss: 53.9477 - mse: 53.6972 - val_loss: 45.7068 - val_mse: 51.6645\n",
            "Epoch 160/200\n",
            "11/11 [==============================] - 0s 5ms/step - loss: 54.3196 - mse: 54.1125 - val_loss: 45.8847 - val_mse: 51.9235\n",
            "Epoch 161/200\n",
            "11/11 [==============================] - 0s 4ms/step - loss: 52.8451 - mse: 54.0832 - val_loss: 46.9948 - val_mse: 53.0953\n",
            "Epoch 162/200\n",
            "11/11 [==============================] - 0s 4ms/step - loss: 52.2314 - mse: 53.1876 - val_loss: 45.9283 - val_mse: 51.7641\n",
            "Epoch 163/200\n",
            "11/11 [==============================] - 0s 5ms/step - loss: 55.8940 - mse: 55.5123 - val_loss: 45.2736 - val_mse: 51.0191\n",
            "Epoch 164/200\n",
            "11/11 [==============================] - 0s 5ms/step - loss: 54.7173 - mse: 54.2878 - val_loss: 47.2334 - val_mse: 53.0857\n",
            "Epoch 165/200\n",
            "11/11 [==============================] - 0s 4ms/step - loss: 53.7675 - mse: 53.4634 - val_loss: 45.2972 - val_mse: 51.0586\n",
            "Epoch 166/200\n",
            "11/11 [==============================] - 0s 5ms/step - loss: 53.9064 - mse: 53.6377 - val_loss: 44.9944 - val_mse: 50.7233\n",
            "Epoch 167/200\n",
            "11/11 [==============================] - 0s 5ms/step - loss: 52.8530 - mse: 52.9537 - val_loss: 46.7006 - val_mse: 52.6061\n",
            "Epoch 168/200\n",
            "11/11 [==============================] - 0s 4ms/step - loss: 53.1448 - mse: 52.8810 - val_loss: 45.6263 - val_mse: 51.4621\n",
            "Epoch 169/200\n",
            "11/11 [==============================] - 0s 4ms/step - loss: 52.4457 - mse: 52.5027 - val_loss: 45.2383 - val_mse: 51.0415\n",
            "Epoch 170/200\n",
            "11/11 [==============================] - 0s 4ms/step - loss: 51.8313 - mse: 52.3044 - val_loss: 44.9433 - val_mse: 50.6481\n",
            "Epoch 171/200\n",
            "11/11 [==============================] - 0s 5ms/step - loss: 52.9152 - mse: 52.8026 - val_loss: 46.1948 - val_mse: 51.9456\n",
            "Epoch 172/200\n",
            "11/11 [==============================] - 0s 4ms/step - loss: 52.1430 - mse: 51.7993 - val_loss: 44.5703 - val_mse: 50.1523\n",
            "Epoch 173/200\n",
            "11/11 [==============================] - 0s 5ms/step - loss: 52.1319 - mse: 52.9388 - val_loss: 44.4692 - val_mse: 50.0639\n",
            "Epoch 174/200\n",
            "11/11 [==============================] - 0s 5ms/step - loss: 52.5787 - mse: 52.2487 - val_loss: 44.4437 - val_mse: 50.0494\n",
            "Epoch 175/200\n",
            "11/11 [==============================] - 0s 5ms/step - loss: 49.9523 - mse: 51.5130 - val_loss: 45.3101 - val_mse: 51.0092\n",
            "Epoch 176/200\n",
            "11/11 [==============================] - 0s 5ms/step - loss: 51.6616 - mse: 51.4604 - val_loss: 44.3319 - val_mse: 49.9820\n",
            "Epoch 177/200\n",
            "11/11 [==============================] - 0s 5ms/step - loss: 51.8125 - mse: 51.5751 - val_loss: 44.4691 - val_mse: 50.1679\n",
            "Epoch 178/200\n",
            "11/11 [==============================] - 0s 4ms/step - loss: 51.2600 - mse: 51.3200 - val_loss: 44.9305 - val_mse: 50.6454\n",
            "Epoch 179/200\n",
            "11/11 [==============================] - 0s 4ms/step - loss: 51.9637 - mse: 51.5374 - val_loss: 44.5866 - val_mse: 50.2000\n",
            "Epoch 180/200\n",
            "11/11 [==============================] - 0s 4ms/step - loss: 52.4469 - mse: 52.1061 - val_loss: 44.0608 - val_mse: 49.5887\n",
            "Epoch 181/200\n",
            "11/11 [==============================] - 0s 4ms/step - loss: 51.5796 - mse: 51.5599 - val_loss: 45.2776 - val_mse: 50.9537\n",
            "Epoch 182/200\n",
            "11/11 [==============================] - 0s 5ms/step - loss: 51.1050 - mse: 51.0314 - val_loss: 43.9429 - val_mse: 49.4594\n",
            "Epoch 183/200\n",
            "11/11 [==============================] - 0s 5ms/step - loss: 50.2865 - mse: 50.7743 - val_loss: 45.0727 - val_mse: 50.7088\n",
            "Epoch 184/200\n",
            "11/11 [==============================] - 0s 4ms/step - loss: 50.4140 - mse: 50.5423 - val_loss: 43.7532 - val_mse: 49.3172\n",
            "Epoch 185/200\n",
            "11/11 [==============================] - 0s 4ms/step - loss: 50.7720 - mse: 50.5537 - val_loss: 43.7357 - val_mse: 49.3087\n",
            "Epoch 186/200\n",
            "11/11 [==============================] - 0s 5ms/step - loss: 50.7361 - mse: 50.4525 - val_loss: 43.8570 - val_mse: 49.4747\n",
            "Epoch 187/200\n",
            "11/11 [==============================] - 0s 5ms/step - loss: 50.4927 - mse: 50.2591 - val_loss: 44.3398 - val_mse: 50.0256\n",
            "Epoch 188/200\n",
            "11/11 [==============================] - 0s 5ms/step - loss: 50.1438 - mse: 50.1490 - val_loss: 43.7153 - val_mse: 49.2866\n",
            "Epoch 189/200\n",
            "11/11 [==============================] - 0s 4ms/step - loss: 50.4096 - mse: 50.0861 - val_loss: 43.7709 - val_mse: 49.2788\n",
            "Epoch 190/200\n",
            "11/11 [==============================] - 0s 5ms/step - loss: 50.5414 - mse: 50.3848 - val_loss: 44.3305 - val_mse: 49.8476\n",
            "Epoch 191/200\n",
            "11/11 [==============================] - 0s 4ms/step - loss: 49.6903 - mse: 49.9146 - val_loss: 43.5841 - val_mse: 48.9935\n",
            "Epoch 192/200\n",
            "11/11 [==============================] - 0s 4ms/step - loss: 50.4546 - mse: 50.1912 - val_loss: 44.0278 - val_mse: 49.4333\n",
            "Epoch 193/200\n",
            "11/11 [==============================] - 0s 5ms/step - loss: 50.1650 - mse: 49.8569 - val_loss: 43.3456 - val_mse: 48.6970\n",
            "Epoch 194/200\n",
            "11/11 [==============================] - 0s 4ms/step - loss: 50.5051 - mse: 50.3339 - val_loss: 43.1819 - val_mse: 48.4825\n",
            "Epoch 195/200\n",
            "11/11 [==============================] - 0s 4ms/step - loss: 49.7126 - mse: 49.8550 - val_loss: 43.5100 - val_mse: 48.9052\n",
            "Epoch 196/200\n",
            "11/11 [==============================] - 0s 4ms/step - loss: 49.1654 - mse: 49.8742 - val_loss: 43.9827 - val_mse: 49.4522\n",
            "Epoch 197/200\n",
            "11/11 [==============================] - 0s 4ms/step - loss: 49.6583 - mse: 49.3897 - val_loss: 43.1687 - val_mse: 48.4845\n",
            "Epoch 198/200\n",
            "11/11 [==============================] - 0s 4ms/step - loss: 49.7213 - mse: 49.3538 - val_loss: 43.0094 - val_mse: 48.2935\n",
            "Epoch 199/200\n",
            "11/11 [==============================] - 0s 4ms/step - loss: 49.3500 - mse: 49.1877 - val_loss: 43.2963 - val_mse: 48.6313\n",
            "Epoch 200/200\n",
            "11/11 [==============================] - 0s 4ms/step - loss: 49.4562 - mse: 49.1093 - val_loss: 43.6690 - val_mse: 49.0781\n"
          ],
          "name": "stdout"
        },
        {
          "output_type": "execute_result",
          "data": {
            "text/plain": [
              "<tensorflow.python.keras.callbacks.History at 0x7f0076f6b128>"
            ]
          },
          "metadata": {
            "tags": []
          },
          "execution_count": 13
        }
      ]
    },
    {
      "cell_type": "code",
      "metadata": {
        "id": "NFu2k4J_spfi",
        "colab_type": "code",
        "colab": {
          "base_uri": "https://localhost:8080/",
          "height": 52
        },
        "outputId": "41e6fdcc-d4f3-43fe-db91-778db3882c9f"
      },
      "source": [
        "loss, mse = model.evaluate(test_ds)\n",
        "print(\"Mean Squared Error - Test Data\", mse)"
      ],
      "execution_count": 14,
      "outputs": [
        {
          "output_type": "stream",
          "text": [
            "4/4 [==============================] - 0s 3ms/step - loss: 59.0249 - mse: 58.5053\n",
            "Mean Squared Error - Test Data 58.505283\n"
          ],
          "name": "stdout"
        }
      ]
    }
  ]
}
