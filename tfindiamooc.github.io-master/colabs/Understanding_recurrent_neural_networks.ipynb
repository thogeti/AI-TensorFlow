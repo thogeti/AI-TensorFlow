{
  "nbformat": 4,
  "nbformat_minor": 0,
  "metadata": {
    "kernelspec": {
      "display_name": "Python 3",
      "language": "python",
      "name": "python3"
    },
    "language_info": {
      "codemirror_mode": {
        "name": "ipython",
        "version": 3
      },
      "file_extension": ".py",
      "mimetype": "text/x-python",
      "name": "python",
      "nbconvert_exporter": "python",
      "pygments_lexer": "ipython3",
      "version": "3.5.2"
    },
    "colab": {
      "name": "Understanding-recurrent-neural-networks.ipynb",
      "provenance": [],
      "include_colab_link": true
    }
  },
  "cells": [
    {
      "cell_type": "markdown",
      "metadata": {
        "id": "view-in-github",
        "colab_type": "text"
      },
      "source": [
        "<a href=\"https://colab.research.google.com/github/tfindiamooc/tfindiamooc.github.io/blob/master/colabs/Understanding_recurrent_neural_networks.ipynb\" target=\"_parent\"><img src=\"https://colab.research.google.com/assets/colab-badge.svg\" alt=\"Open In Colab\"/></a>"
      ]
    },
    {
      "cell_type": "code",
      "metadata": {
        "id": "iX3H8ewVdBs1",
        "colab_type": "code",
        "outputId": "681848fb-7f7c-4a25-9509-9326d0163060",
        "colab": {}
      },
      "source": [
        "import keras\n",
        "keras.__version__"
      ],
      "execution_count": 0,
      "outputs": [
        {
          "output_type": "stream",
          "text": [
            "Using TensorFlow backend.\n"
          ],
          "name": "stderr"
        },
        {
          "output_type": "execute_result",
          "data": {
            "text/plain": [
              "'2.0.8'"
            ]
          },
          "metadata": {
            "tags": []
          },
          "execution_count": 1
        }
      ]
    },
    {
      "cell_type": "markdown",
      "metadata": {
        "id": "APpB8JFudBs7",
        "colab_type": "text"
      },
      "source": [
        "# Understanding recurrent neural networks\n",
        "\n",
        "This notebook contains the code samples found in Chapter 6, Section 2 of [Deep Learning with Python](https://www.manning.com/books/deep-learning-with-python?a_aid=keras&a_bid=76564dff). \n",
        "\n",
        "## SimpleRNN\n",
        "\n",
        "The process we just naively implemented in Numpy corresponds to an actual Keras layer: the `SimpleRNN` layer:\n"
      ]
    },
    {
      "cell_type": "code",
      "metadata": {
        "id": "HELuwxCcdYmj",
        "colab_type": "code",
        "colab": {}
      },
      "source": [
        "import numpy as np"
      ],
      "execution_count": 0,
      "outputs": []
    },
    {
      "cell_type": "code",
      "metadata": {
        "id": "MvgD7gikdc_E",
        "colab_type": "code",
        "colab": {}
      },
      "source": [
        "timesteps = 100         # Number of timesteps in the input sequence.\n",
        "input_features = 32     # Dimensionality of the input feature space\n",
        "output_features = 64    # Dimensionality of the output feature space"
      ],
      "execution_count": 0,
      "outputs": []
    },
    {
      "cell_type": "markdown",
      "metadata": {
        "id": "LrpH8d60dwye",
        "colab_type": "text"
      },
      "source": [
        "Get the input"
      ]
    },
    {
      "cell_type": "code",
      "metadata": {
        "id": "QaJY6khOdweP",
        "colab_type": "code",
        "colab": {}
      },
      "source": [
        "inputs = np.random.random((timesteps, input_features))\n"
      ],
      "execution_count": 0,
      "outputs": []
    },
    {
      "cell_type": "code",
      "metadata": {
        "id": "QfbB_LGdgWWi",
        "colab_type": "code",
        "outputId": "6d2c520c-fcf0-47e2-f16f-2e1cad7632ab",
        "colab": {
          "base_uri": "https://localhost:8080/",
          "height": 243
        }
      },
      "source": [
        "inputs"
      ],
      "execution_count": 0,
      "outputs": [
        {
          "output_type": "execute_result",
          "data": {
            "text/plain": [
              "array([[0.45079367, 0.67935867, 0.40936707, ..., 0.20748137, 0.37800912,\n",
              "        0.80487785],\n",
              "       [0.52687406, 0.21872629, 0.33978462, ..., 0.35346522, 0.34128635,\n",
              "        0.78492911],\n",
              "       [0.32006564, 0.15994408, 0.46670835, ..., 0.91766486, 0.92197527,\n",
              "        0.19737359],\n",
              "       ...,\n",
              "       [0.34860521, 0.68529053, 0.02586581, ..., 0.63584958, 0.08719603,\n",
              "        0.42478642],\n",
              "       [0.02468279, 0.38909779, 0.86342791, ..., 0.28777785, 0.44621177,\n",
              "        0.6704985 ],\n",
              "       [0.79125874, 0.66503392, 0.76177463, ..., 0.36051282, 0.37230447,\n",
              "        0.99266594]])"
            ]
          },
          "metadata": {
            "tags": []
          },
          "execution_count": 4
        }
      ]
    },
    {
      "cell_type": "markdown",
      "metadata": {
        "id": "f8K9i1-XeH1a",
        "colab_type": "text"
      },
      "source": [
        "Initial state is all-zero vector"
      ]
    },
    {
      "cell_type": "code",
      "metadata": {
        "id": "ni1kRRzCeA78",
        "colab_type": "code",
        "colab": {}
      },
      "source": [
        "state_t = np.zeros((output_features))"
      ],
      "execution_count": 0,
      "outputs": []
    },
    {
      "cell_type": "code",
      "metadata": {
        "id": "TiOhfspMgjXA",
        "colab_type": "code",
        "outputId": "9febdaa5-7497-4c8c-9ec6-11bbd1ce254b",
        "colab": {
          "base_uri": "https://localhost:8080/",
          "height": 87
        }
      },
      "source": [
        "state_t"
      ],
      "execution_count": 0,
      "outputs": [
        {
          "output_type": "execute_result",
          "data": {
            "text/plain": [
              "array([0., 0., 0., 0., 0., 0., 0., 0., 0., 0., 0., 0., 0., 0., 0., 0., 0.,\n",
              "       0., 0., 0., 0., 0., 0., 0., 0., 0., 0., 0., 0., 0., 0., 0., 0., 0.,\n",
              "       0., 0., 0., 0., 0., 0., 0., 0., 0., 0., 0., 0., 0., 0., 0., 0., 0.,\n",
              "       0., 0., 0., 0., 0., 0., 0., 0., 0., 0., 0., 0., 0.])"
            ]
          },
          "metadata": {
            "tags": []
          },
          "execution_count": 6
        }
      ]
    },
    {
      "cell_type": "markdown",
      "metadata": {
        "id": "batqEo-ZeY7z",
        "colab_type": "text"
      },
      "source": [
        "Initialize weights randomly"
      ]
    },
    {
      "cell_type": "code",
      "metadata": {
        "id": "cpx6PHTPeUnn",
        "colab_type": "code",
        "colab": {}
      },
      "source": [
        "W = np.random.random((output_features, input_features))\n",
        "U = np.random.random((output_features, output_features))\n",
        "b = np.random.random((output_features, ))"
      ],
      "execution_count": 0,
      "outputs": []
    },
    {
      "cell_type": "markdown",
      "metadata": {
        "id": "yVsQhqUwewQL",
        "colab_type": "text"
      },
      "source": [
        "Let's implement RNN"
      ]
    },
    {
      "cell_type": "code",
      "metadata": {
        "id": "mtehq65MeyMz",
        "colab_type": "code",
        "colab": {}
      },
      "source": [
        "successive_outputs = []\n",
        "for input_t in inputs:\n",
        "  output_t = np.tanh(np.dot(W, input_t) + np.dot(U, state_t) + b)  # Combines input with the current state to obtain the current output\n",
        "  successive_outputs.append(output_t)\n",
        "  state_t = output_t          # Updates state of the network for the next timestep\n",
        "  \n",
        "# The final output is a 2D tensor of shape (timesteps, output_features)\n",
        "final_output_sequence = np.concatenate(successive_outputs, axis=0)"
      ],
      "execution_count": 0,
      "outputs": []
    },
    {
      "cell_type": "markdown",
      "metadata": {
        "id": "E2G7b4NchZjT",
        "colab_type": "text"
      },
      "source": [
        "### Issues:\n",
        "* Too simplistic for real life usecases\n",
        "* It is not possible to learn long term dependendencies with SimpleRNN.  This is due to *vanishing gradient problem* - as you add more layers to the network with many layers, it eventually becomes untrainable.\n",
        "\n",
        "LSTMs solve that problem."
      ]
    },
    {
      "cell_type": "markdown",
      "metadata": {
        "id": "7W3WRKC-hQ62",
        "colab_type": "text"
      },
      "source": [
        "## LSTM"
      ]
    },
    {
      "cell_type": "markdown",
      "metadata": {
        "id": "DYTCL7KfiW5N",
        "colab_type": "text"
      },
      "source": [
        "``` \n",
        "   output_t = activation(dot(output_t, U_0) + dot(input_t, W_0) + dot(c_t, V_0) + b_0)\n",
        "   \n",
        "   i_t = activation(dot(state_t, U_i) + dot(input_t, W_i) + b_i)\n",
        "   f_t = activation(dot(state_t, U_f) + dot(input_t, W_f) + b_f)\n",
        "   k_t = activation(dot(state_t, U_k) + dot(input_t, W_k) + b_k)\n",
        "   \n",
        "   c_t+1 = i_t * k_t + c_t * f_t\n",
        "\n",
        "```"
      ]
    },
    {
      "cell_type": "markdown",
      "metadata": {
        "id": "wRUjn9R4jzbJ",
        "colab_type": "text"
      },
      "source": [
        "LSTM allows past inform to be reinjected at a later time, thus fighting the vanishing gradient problem."
      ]
    }
  ]
}