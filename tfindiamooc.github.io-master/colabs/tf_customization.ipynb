{
  "nbformat": 4,
  "nbformat_minor": 0,
  "metadata": {
    "colab": {
      "name": "TF_Customization.ipynb",
      "version": "0.3.2",
      "provenance": [],
      "toc_visible": true,
      "include_colab_link": true
    },
    "kernelspec": {
      "name": "python3",
      "display_name": "Python 3"
    },
    "accelerator": "GPU"
  },
  "cells": [
    {
      "cell_type": "markdown",
      "metadata": {
        "id": "view-in-github",
        "colab_type": "text"
      },
      "source": [
        "<a href=\"https://colab.research.google.com/github/tfindiamooc/tfindiamooc.github.io/blob/master/colabs/tf_customization.ipynb\" target=\"_parent\"><img src=\"https://colab.research.google.com/assets/colab-badge.svg\" alt=\"Open In Colab\"/></a>"
      ]
    },
    {
      "cell_type": "markdown",
      "metadata": {
        "id": "ge8joAeDsBUf",
        "colab_type": "text"
      },
      "source": [
        "# TensorFlow Customization"
      ]
    },
    {
      "cell_type": "markdown",
      "metadata": {
        "id": "dyE0uES0sM8Y",
        "colab_type": "text"
      },
      "source": [
        "So far in this course, we used methods provided by build in TF APIs like tf.Keras and tf.Estimator.  While these constructs are sufficient to start any AI project, there could be situations where you may have to implement custom models, loss functions or metrics.  Tensorflow 2.0 provides support for extending its functionality.  In this module, we will learn how to customize TF 2.0 functionality."
      ]
    },
    {
      "cell_type": "code",
      "metadata": {
        "id": "X9dYQqTmr6lu",
        "colab_type": "code",
        "cellView": "form",
        "outputId": "40d6b79e-ef4d-4bd6-a552-538a931359bc",
        "colab": {
          "base_uri": "https://localhost:8080/",
          "height": 34
        }
      },
      "source": [
        "#@title Import TF 2.0\n",
        "\n",
        "from __future__ import absolute_import, division, print_function\n",
        "\n",
        "try:\n",
        "  # %tensorflow_version only exists in Colab.\n",
        "  %tensorflow_version 2.x\n",
        "except Exception:\n",
        "  pass\n",
        "\n",
        "import tensorflow as tf"
      ],
      "execution_count": 0,
      "outputs": [
        {
          "output_type": "stream",
          "text": [
            "TensorFlow 2.x selected.\n"
          ],
          "name": "stdout"
        }
      ]
    },
    {
      "cell_type": "markdown",
      "metadata": {
        "id": "XbfT1reDuZ66",
        "colab_type": "text"
      },
      "source": [
        "## Part 1: Tensors and Accelerators\n",
        "\n",
        "### Tensors\n",
        "\n",
        "A Tensor is a multi-dimensional array. Similar to NumPy `ndarray` objects, `tf.Tensor` objects have a **data type** and a **shape**. Additionally, `tf.Tensor`s can *reside in accelerator memory (like a GPU)*. TensorFlow offers a rich library of operations ([tf.add](https://www.tensorflow.org/api_docs/python/tf/add), [tf.matmul](https://www.tensorflow.org/api_docs/python/tf/matmul), [tf.linalg.inv](https://www.tensorflow.org/api_docs/python/tf/linalg/inv) etc.) that consume and produce `tf.Tensor`s. These operations automatically convert native Python types, for example:\n"
      ]
    },
    {
      "cell_type": "code",
      "metadata": {
        "id": "gqFEOkBIuyFr",
        "colab_type": "code",
        "outputId": "e6070291-a1be-4028-a67c-c1d038902c43",
        "colab": {
          "base_uri": "https://localhost:8080/",
          "height": 102
        }
      },
      "source": [
        "# We can add two scalars\n",
        "print(tf.add(1, 2))   \n",
        "# returns tf.Tensor(3, shape=(), dtype=int32)\n",
        "\n",
        "# or add vectors\n",
        "print(tf.add([1, 2], [3, 4]))  \n",
        "# returns tf.Tensor([4 6], shape=(2,), dtype=int32)\n",
        "\n",
        "# square the number \n",
        "print(tf.square(5))\n",
        "# returns tf.Tensor(25, shape=(), dtype=int32)\n",
        "\n",
        "# sum the elements in the list and return a scalar, which is sum of elements \n",
        "# in the list\n",
        "print(tf.reduce_sum([1, 2, 3]))  # 1 + 2 + 3\n",
        "# returns tf.Tensor(6, shape=(), dtype=int32) \n",
        "\n",
        "# Operator overloading is also supported\n",
        "print(tf.square(2) + tf.square(3))"
      ],
      "execution_count": 0,
      "outputs": [
        {
          "output_type": "stream",
          "text": [
            "tf.Tensor(3, shape=(), dtype=int32)\n",
            "tf.Tensor([4 6], shape=(2,), dtype=int32)\n",
            "tf.Tensor(25, shape=(), dtype=int32)\n",
            "tf.Tensor(6, shape=(), dtype=int32)\n",
            "tf.Tensor(13, shape=(), dtype=int32)\n"
          ],
          "name": "stdout"
        }
      ]
    },
    {
      "cell_type": "markdown",
      "metadata": {
        "id": "oZQe7oYkr_cQ",
        "colab_type": "text"
      },
      "source": [
        "Recall that each tf.Tensor has a shape and a datatype:"
      ]
    },
    {
      "cell_type": "code",
      "metadata": {
        "id": "M6ooqEoBvlgC",
        "colab_type": "code",
        "outputId": "c8ca0739-37af-4dad-dbd7-3706a60cc687",
        "colab": {
          "base_uri": "https://localhost:8080/",
          "height": 68
        }
      },
      "source": [
        "x = tf.matmul([[1]], [[2, 3]])\n",
        "print(x)\n",
        "print(\"Shape: %s\"%x.shape)\n",
        "print(\"Data type: %s\"%x.dtype)"
      ],
      "execution_count": 0,
      "outputs": [
        {
          "output_type": "stream",
          "text": [
            "tf.Tensor([[2 3]], shape=(1, 2), dtype=int32)\n",
            "Shape: (1, 2)\n",
            "Data type: <dtype: 'int32'>\n"
          ],
          "name": "stdout"
        }
      ]
    },
    {
      "cell_type": "markdown",
      "metadata": {
        "id": "VsezjyQ0v3j3",
        "colab_type": "text"
      },
      "source": [
        "The most obvious differences between NumPy arrays and `tf.Tensor`s are:\n",
        "\n",
        "1. Tensors can be backed by accelerator memory (like GPU, TPU).\n",
        "2. Tensors are immutable."
      ]
    },
    {
      "cell_type": "markdown",
      "metadata": {
        "id": "-0wsIajowDhk",
        "colab_type": "text"
      },
      "source": [
        "### NumPy Compatibility\n",
        "\n",
        "Converting between a TensorFlow `tf.Tensor`s and a NumPy `ndarray` is easy:\n",
        "\n",
        "* TensorFlow operations automatically convert NumPy ndarrays to Tensors.\n",
        "* NumPy operations automatically convert Tensors to NumPy ndarrays.\n",
        "\n",
        "Tensors are explicitly converted to NumPy ndarrays using their `.numpy()` method. These conversions are typically cheap since the array and `tf.Tensor` share the underlying memory representation, if possible. However, sharing the underlying representation isn't always possible since the `tf.Tensor` may be hosted in GPU memory while NumPy arrays are always backed by host memory, and the conversion involves a copy from GPU to host memory."
      ]
    },
    {
      "cell_type": "code",
      "metadata": {
        "id": "t_N6taDYv3DC",
        "colab_type": "code",
        "outputId": "78bebdf5-124d-452f-9736-ed828476de5d",
        "colab": {
          "base_uri": "https://localhost:8080/",
          "height": 374
        }
      },
      "source": [
        "import numpy as np\n",
        "\n",
        "ndarray = np.ones([3, 3])\n",
        "print (\"Content of array:\")\n",
        "print (ndarray)\n",
        "print ()\n",
        "\n",
        "print(\"TensorFlow operations convert numpy arrays to Tensors automatically\")\n",
        "tensor = tf.multiply(ndarray, 42)\n",
        "print(tensor)\n",
        "print ()\n",
        "\n",
        "print(\"And NumPy operations convert Tensors to numpy arrays automatically\")\n",
        "print(np.add(tensor, 1))\n",
        "print ()\n",
        "\n",
        "print(\"The .numpy() method explicitly converts a Tensor to a numpy array\")\n",
        "print(tensor.numpy())\n",
        "print ()"
      ],
      "execution_count": 0,
      "outputs": [
        {
          "output_type": "stream",
          "text": [
            "Content of array:\n",
            "[[1. 1. 1.]\n",
            " [1. 1. 1.]\n",
            " [1. 1. 1.]]\n",
            "\n",
            "TensorFlow operations convert numpy arrays to Tensors automatically\n",
            "tf.Tensor(\n",
            "[[42. 42. 42.]\n",
            " [42. 42. 42.]\n",
            " [42. 42. 42.]], shape=(3, 3), dtype=float64)\n",
            "\n",
            "And NumPy operations convert Tensors to numpy arrays automatically\n",
            "[[43. 43. 43.]\n",
            " [43. 43. 43.]\n",
            " [43. 43. 43.]]\n",
            "\n",
            "The .numpy() method explicitly converts a Tensor to a numpy array\n",
            "[[42. 42. 42.]\n",
            " [42. 42. 42.]\n",
            " [42. 42. 42.]]\n",
            "\n"
          ],
          "name": "stdout"
        }
      ]
    },
    {
      "cell_type": "markdown",
      "metadata": {
        "id": "9-_Wu_yxwx38",
        "colab_type": "text"
      },
      "source": [
        "### GPU acceleration\n",
        "\n",
        "Many TensorFlow operations are accelerated using the GPU for computation. Without any annotations, TensorFlow automatically decides whether to use the GPU or CPU for an operation—copying the tensor between CPU and GPU memory, if necessary. Tensors produced by an operation are typically backed by the memory of the device on which the operation executed, for example:"
      ]
    },
    {
      "cell_type": "code",
      "metadata": {
        "id": "oLICYe0-wypO",
        "colab_type": "code",
        "outputId": "b11bbe47-2333-4dab-bc75-88b0fafd8d64",
        "colab": {
          "base_uri": "https://localhost:8080/",
          "height": 51
        }
      },
      "source": [
        "x = tf.random.uniform([3, 3])\n",
        "\n",
        "print(\"Is there a GPU available: \"),\n",
        "print(tf.test.is_gpu_available())"
      ],
      "execution_count": 0,
      "outputs": [
        {
          "output_type": "stream",
          "text": [
            "Is there a GPU available: \n",
            "True\n"
          ],
          "name": "stdout"
        }
      ]
    },
    {
      "cell_type": "markdown",
      "metadata": {
        "id": "UkZdEIEEw5Kh",
        "colab_type": "text"
      },
      "source": [
        "Check if the tensor is stored in GPU with `tensor.device.endswith` method."
      ]
    },
    {
      "cell_type": "code",
      "metadata": {
        "id": "M4qszstjw3jL",
        "colab_type": "code",
        "outputId": "662af8b4-1283-4df6-d3a8-0137dde48fab",
        "colab": {
          "base_uri": "https://localhost:8080/",
          "height": 51
        }
      },
      "source": [
        "print(\"Is the Tensor on GPU #0:  \"),\n",
        "print(x.device.endswith('GPU:0'))"
      ],
      "execution_count": 0,
      "outputs": [
        {
          "output_type": "stream",
          "text": [
            "Is the Tensor on GPU #0:  \n",
            "True\n"
          ],
          "name": "stdout"
        }
      ]
    },
    {
      "cell_type": "markdown",
      "metadata": {
        "id": "Kefe8FcxxLXZ",
        "colab_type": "text"
      },
      "source": [
        "### How does it specify device names?\n",
        "\n",
        "The `Tensor.device` property provides a fully qualified string name of the device hosting the contents of the tensor. This name encodes many details, such as (i) an **identifier of the network address** of the host on which this program is executing and (ii) the **device within that host**. This is required for distributed execution of a TensorFlow program. The string ends with `GPU:<N>` if the tensor is placed on the `N`-th GPU on the host."
      ]
    },
    {
      "cell_type": "markdown",
      "metadata": {
        "id": "Dg8M1o1dxhcC",
        "colab_type": "text"
      },
      "source": [
        "### How can we place a tensor on GPU explicitely?\n",
        "\n",
        "In TensorFlow, *placement* refers to how individual operations are assigned (placed on) a device for execution. As mentioned, when there is no explicit guidance provided, TensorFlow automatically decides which device to execute an operation and copies tensors to that device, if needed. However, TensorFlow operations can be explicitly placed on specific devices using the `tf.device` context manager, for example:"
      ]
    },
    {
      "cell_type": "code",
      "metadata": {
        "id": "mAGX5e-nxKXc",
        "colab_type": "code",
        "outputId": "9f9f40ab-9c01-4b26-f4a4-81afc965f834",
        "colab": {
          "base_uri": "https://localhost:8080/",
          "height": 102
        }
      },
      "source": [
        "## We will perform matrix multiplication on CPU and GPU and compare the timings.\n",
        "\n",
        "import time\n",
        "\n",
        "# Function for matrix multiplication with itself 10 times.\n",
        "def time_matmul(x):\n",
        "  start = time.time()\n",
        "  \n",
        "  # Perform multiplication 100 times.\n",
        "  for loop in range(100):\n",
        "    tf.matmul(x, x)\n",
        "\n",
        "  result = time.time()-start\n",
        "\n",
        "  print(\"100 loops: {:0.2f}ms\".format(1000*result))\n",
        "\n",
        "# Force execution on CPU \n",
        "print(\"On CPU:\")\n",
        "with tf.device(\"CPU:0\"):\n",
        "  x = tf.random.uniform([1000, 1000])\n",
        "  assert x.device.endswith(\"CPU:0\")\n",
        "  time_matmul(x)\n",
        "\n",
        "print()\n",
        "\n",
        "# Force execution on GPU #0 if available by first placing the tensor on GPU.\n",
        "if tf.test.is_gpu_available():\n",
        "  print(\"On GPU:\")\n",
        "  with tf.device(\"GPU:0\"): # Or GPU:1 for the 2nd GPU, GPU:2 for the 3rd etc.\n",
        "    x = tf.random.uniform([1000, 1000])\n",
        "    assert x.device.endswith(\"GPU:0\")\n",
        "    time_matmul(x)"
      ],
      "execution_count": 0,
      "outputs": [
        {
          "output_type": "stream",
          "text": [
            "On CPU:\n",
            "100 loops: 2690.45ms\n",
            "\n",
            "On GPU:\n",
            "100 loops: 4.02ms\n"
          ],
          "name": "stdout"
        }
      ]
    },
    {
      "cell_type": "markdown",
      "metadata": {
        "id": "23o01dSszBSc",
        "colab_type": "text"
      },
      "source": [
        "## Part 2: Customize tf.Keras Sequential API\n",
        "\n",
        "Customization opportunities:\n",
        "* Model\n",
        "* Loss function\n",
        "* Training Loop\n",
        "* Metrics\n",
        "\n",
        "Let's learn how we can carry out these customizations in this section."
      ]
    },
    {
      "cell_type": "markdown",
      "metadata": {
        "id": "Hb4DK6Tpz4Qh",
        "colab_type": "text"
      },
      "source": [
        "### Writing custom layers\n",
        "\n",
        "Layers provide higher level of abstraction for implementing ML models. Many machine learning models are expressible as the composition and stacking of relatively simple layers, and TensorFlow provides both a set of many common layers as a well as easy ways for you to write your own application-specific layers either from scratch or as the composition of existing layers."
      ]
    },
    {
      "cell_type": "code",
      "metadata": {
        "id": "fGqC06U60tFl",
        "colab_type": "code",
        "colab": {}
      },
      "source": [
        "# In the tf.keras.layers package, layers are objects. To construct a layer,\n",
        "# simply construct the object. Most layers take as a first argument the number\n",
        "# of output dimensions / channels.\n",
        "layer = tf.keras.layers.Dense(100)\n",
        "\n",
        "# The number of input dimensions is often unnecessary, as it can be inferred\n",
        "# the first time the layer is used, but it can be provided if you want to\n",
        "# specify it manually, which is useful in some complex models.\n",
        "layer = tf.keras.layers.Dense(10, input_shape=(None, 5))"
      ],
      "execution_count": 0,
      "outputs": []
    },
    {
      "cell_type": "markdown",
      "metadata": {
        "id": "Sps4NdM705bP",
        "colab_type": "text"
      },
      "source": [
        "Example layers are Dense (a fully-connected layer),\n",
        "Conv2D, LSTM, BatchNormalization, Dropout, and many others.  The full list can be found in [the documentation](https://www.tensorflow.org/api_docs/python/tf/keras/layers). "
      ]
    },
    {
      "cell_type": "code",
      "metadata": {
        "id": "BFa0xbyv1Luq",
        "colab_type": "code",
        "outputId": "5a661873-eaf2-4eb4-cda5-7e3844dc9d4c",
        "colab": {
          "base_uri": "https://localhost:8080/",
          "height": 204
        }
      },
      "source": [
        "# To use a layer, simply call it.\n",
        "layer(tf.zeros([10, 5]))"
      ],
      "execution_count": 0,
      "outputs": [
        {
          "output_type": "execute_result",
          "data": {
            "text/plain": [
              "<tf.Tensor: id=712, shape=(10, 10), dtype=float32, numpy=\n",
              "array([[0., 0., 0., 0., 0., 0., 0., 0., 0., 0.],\n",
              "       [0., 0., 0., 0., 0., 0., 0., 0., 0., 0.],\n",
              "       [0., 0., 0., 0., 0., 0., 0., 0., 0., 0.],\n",
              "       [0., 0., 0., 0., 0., 0., 0., 0., 0., 0.],\n",
              "       [0., 0., 0., 0., 0., 0., 0., 0., 0., 0.],\n",
              "       [0., 0., 0., 0., 0., 0., 0., 0., 0., 0.],\n",
              "       [0., 0., 0., 0., 0., 0., 0., 0., 0., 0.],\n",
              "       [0., 0., 0., 0., 0., 0., 0., 0., 0., 0.],\n",
              "       [0., 0., 0., 0., 0., 0., 0., 0., 0., 0.],\n",
              "       [0., 0., 0., 0., 0., 0., 0., 0., 0., 0.]], dtype=float32)>"
            ]
          },
          "metadata": {
            "tags": []
          },
          "execution_count": 9
        }
      ]
    },
    {
      "cell_type": "code",
      "metadata": {
        "id": "fh1aRQ6f1MMD",
        "colab_type": "code",
        "outputId": "34d45905-4a27-4b21-db2e-0aaadf0d8e26",
        "colab": {
          "base_uri": "https://localhost:8080/",
          "height": 238
        }
      },
      "source": [
        "# Layers have many useful methods. For example, you can inspect all variables\n",
        "# in a layer using `layer.variables` and trainable variables using\n",
        "# `layer.trainable_variables`. In this case a fully-connected layer\n",
        "# will have variables for weights and biases.\n",
        "layer.variables"
      ],
      "execution_count": 0,
      "outputs": [
        {
          "output_type": "execute_result",
          "data": {
            "text/plain": [
              "[<tf.Variable 'dense_1/kernel:0' shape=(5, 10) dtype=float32, numpy=\n",
              " array([[-0.10956973, -0.32350817,  0.33780086, -0.355431  , -0.595714  ,\n",
              "         -0.3596113 , -0.19393778, -0.04922861,  0.22064978, -0.2343215 ],\n",
              "        [-0.06548589, -0.14383852, -0.146968  ,  0.36432648, -0.49617139,\n",
              "         -0.22814971,  0.11680913, -0.54332936,  0.12799722,  0.53414744],\n",
              "        [-0.33322757,  0.31441182, -0.5343494 ,  0.4118405 ,  0.44340605,\n",
              "          0.46069974, -0.23017013, -0.17695966, -0.4530635 , -0.49714383],\n",
              "        [-0.30850297, -0.14670593,  0.3785556 , -0.03918439,  0.43342572,\n",
              "          0.12621808,  0.5813835 , -0.22612536, -0.43294474, -0.54165995],\n",
              "        [ 0.29879034,  0.01249349, -0.5123859 , -0.06109631,  0.14176685,\n",
              "         -0.14670292, -0.23124829,  0.4585678 ,  0.6174125 , -0.52170664]],\n",
              "       dtype=float32)>,\n",
              " <tf.Variable 'dense_1/bias:0' shape=(10,) dtype=float32, numpy=array([0., 0., 0., 0., 0., 0., 0., 0., 0., 0.], dtype=float32)>]"
            ]
          },
          "metadata": {
            "tags": []
          },
          "execution_count": 10
        }
      ]
    },
    {
      "cell_type": "code",
      "metadata": {
        "id": "aOL_ycwv1ORr",
        "colab_type": "code",
        "outputId": "4c0bb5ca-8f34-4336-dd14-7c74d36b4865",
        "colab": {
          "base_uri": "https://localhost:8080/",
          "height": 238
        }
      },
      "source": [
        "# The variables are also accessible through nice accessors\n",
        "layer.kernel, layer.bias"
      ],
      "execution_count": 0,
      "outputs": [
        {
          "output_type": "execute_result",
          "data": {
            "text/plain": [
              "(<tf.Variable 'dense_1/kernel:0' shape=(5, 10) dtype=float32, numpy=\n",
              " array([[-0.10956973, -0.32350817,  0.33780086, -0.355431  , -0.595714  ,\n",
              "         -0.3596113 , -0.19393778, -0.04922861,  0.22064978, -0.2343215 ],\n",
              "        [-0.06548589, -0.14383852, -0.146968  ,  0.36432648, -0.49617139,\n",
              "         -0.22814971,  0.11680913, -0.54332936,  0.12799722,  0.53414744],\n",
              "        [-0.33322757,  0.31441182, -0.5343494 ,  0.4118405 ,  0.44340605,\n",
              "          0.46069974, -0.23017013, -0.17695966, -0.4530635 , -0.49714383],\n",
              "        [-0.30850297, -0.14670593,  0.3785556 , -0.03918439,  0.43342572,\n",
              "          0.12621808,  0.5813835 , -0.22612536, -0.43294474, -0.54165995],\n",
              "        [ 0.29879034,  0.01249349, -0.5123859 , -0.06109631,  0.14176685,\n",
              "         -0.14670292, -0.23124829,  0.4585678 ,  0.6174125 , -0.52170664]],\n",
              "       dtype=float32)>,\n",
              " <tf.Variable 'dense_1/bias:0' shape=(10,) dtype=float32, numpy=array([0., 0., 0., 0., 0., 0., 0., 0., 0., 0.], dtype=float32)>)"
            ]
          },
          "metadata": {
            "tags": []
          },
          "execution_count": 11
        }
      ]
    },
    {
      "cell_type": "markdown",
      "metadata": {
        "id": "X1R8z8Rv2Yys",
        "colab_type": "text"
      },
      "source": [
        "### Implementing custom layers\n",
        "The best way to implement your own layer is extending the tf.keras.Layer class and implementing:\n",
        "  *  `__init__` , where you can do all input-independent initialization\n",
        "  * `build`, where you know the shapes of the input tensors and can do the rest of the initialization\n",
        "  * `call`, where you do the forward computation\n",
        "\n",
        "Note that you don't have to wait until `build` is called to create your variables, you can also create them in `__init__`. However, \n",
        "* The advantage of creating them in `build` is that it enables **late variable creation** based on the shape of the inputs the layer will operate on. \n",
        "* On the other hand, creating variables in `__init__` would mean that **shapes required to create the variables will need to be explicitly specified**."
      ]
    },
    {
      "cell_type": "code",
      "metadata": {
        "id": "qJO3Aorn24gg",
        "colab_type": "code",
        "outputId": "e67a0e4d-2ee9-4534-a770-b4d0eb892090",
        "colab": {
          "base_uri": "https://localhost:8080/",
          "height": 408
        }
      },
      "source": [
        "class MyDenseLayer(tf.keras.layers.Layer):\n",
        "  def __init__(self, num_outputs):\n",
        "    super(MyDenseLayer, self).__init__()\n",
        "    self.num_outputs = num_outputs\n",
        "\n",
        "  def build(self, input_shape):\n",
        "    self.kernel = self.add_weight(\"kernel\",\n",
        "                                    shape=[int(input_shape[-1]),\n",
        "                                           self.num_outputs])\n",
        "\n",
        "  def call(self, input):\n",
        "    return tf.matmul(input, self.kernel)\n",
        "\n",
        "layer = MyDenseLayer(10)\n",
        "print(layer(tf.zeros([10, 5])))\n",
        "print(layer.trainable_variables)"
      ],
      "execution_count": 0,
      "outputs": [
        {
          "output_type": "stream",
          "text": [
            "tf.Tensor(\n",
            "[[0. 0. 0. 0. 0. 0. 0. 0. 0. 0.]\n",
            " [0. 0. 0. 0. 0. 0. 0. 0. 0. 0.]\n",
            " [0. 0. 0. 0. 0. 0. 0. 0. 0. 0.]\n",
            " [0. 0. 0. 0. 0. 0. 0. 0. 0. 0.]\n",
            " [0. 0. 0. 0. 0. 0. 0. 0. 0. 0.]\n",
            " [0. 0. 0. 0. 0. 0. 0. 0. 0. 0.]\n",
            " [0. 0. 0. 0. 0. 0. 0. 0. 0. 0.]\n",
            " [0. 0. 0. 0. 0. 0. 0. 0. 0. 0.]\n",
            " [0. 0. 0. 0. 0. 0. 0. 0. 0. 0.]\n",
            " [0. 0. 0. 0. 0. 0. 0. 0. 0. 0.]], shape=(10, 10), dtype=float32)\n",
            "[<tf.Variable 'my_dense_layer_3/kernel:0' shape=(5, 10) dtype=float32, numpy=\n",
            "array([[-0.31258893,  0.38091224,  0.41181916, -0.61967224,  0.17612201,\n",
            "         0.06819528,  0.15260917,  0.38091964,  0.3039915 ,  0.2989155 ],\n",
            "       [ 0.47723454,  0.3802932 , -0.14199075,  0.5533703 ,  0.03621048,\n",
            "         0.17587095, -0.3106733 , -0.21331221,  0.33207327, -0.3939585 ],\n",
            "       [ 0.33359325,  0.5275132 ,  0.16026789, -0.11183548,  0.39218384,\n",
            "        -0.3064334 , -0.22519907,  0.10764974, -0.56869465,  0.5773694 ],\n",
            "       [-0.5526781 ,  0.10882616,  0.10456622, -0.27670157, -0.06649667,\n",
            "         0.07259607,  0.28208548,  0.3483944 ,  0.4844193 , -0.5252708 ],\n",
            "       [-0.45750678, -0.36479905,  0.19719434,  0.09904104,  0.61380774,\n",
            "         0.20908588, -0.5946978 ,  0.34502304,  0.61252993, -0.12381524]],\n",
            "      dtype=float32)>]\n"
          ],
          "name": "stdout"
        }
      ]
    },
    {
      "cell_type": "markdown",
      "metadata": {
        "id": "AkBFCZ6J4cyI",
        "colab_type": "text"
      },
      "source": [
        "## Part 3: Automatic Differentiation\n",
        "\n",
        "Automatic differentiation is a key technique for optimizing ML models."
      ]
    },
    {
      "cell_type": "markdown",
      "metadata": {
        "id": "cQTcTknw4viF",
        "colab_type": "text"
      },
      "source": [
        "\n",
        "\n",
        "### Gradient tapes\n",
        "\n",
        "TensorFlow provides the [tf.GradientTape](https://www.tensorflow.org/api_docs/python/tf/GradientTape) API for automatic differentiation - computing the gradient of a computation with respect to its input variables. \n",
        "* Tensorflow \"records\" all operations executed inside the context of a `tf.GradientTape` onto a \"tape\". \n",
        "* Tensorflow then uses that tape and the gradients associated with each recorded operation to compute the gradients of a \"recorded\" computation using [reverse mode differentiation](https://en.wikipedia.org/wiki/Automatic_differentiation). "
      ]
    },
    {
      "cell_type": "markdown",
      "metadata": {
        "id": "RzigoMfx8lyo",
        "colab_type": "text"
      },
      "source": [
        "For each example shown here, we will construct a computation graph and work out the derivatives.  We compare the manually calculated derivatives with automatic differentiation. \n",
        "\n",
        "Any computation wrapped in a tape is recorded, and after the operations have happened you can request gradients from any Tensor to any variable:"
      ]
    },
    {
      "cell_type": "code",
      "metadata": {
        "id": "4DmH74el8jYo",
        "colab_type": "code",
        "outputId": "dfaa5461-81e6-4295-f8c6-cc47034b7853",
        "colab": {
          "base_uri": "https://localhost:8080/",
          "height": 51
        }
      },
      "source": [
        "x = tf.Variable(1.0)\n",
        "with tf.GradientTape() as tape:\n",
        "  y = x ** 2\n",
        "  z = y ** 2\n",
        "dz_dx, dz_dy = tape.gradient(z, [x, y])\n",
        "print(dz_dx.numpy())  # 4.0\n",
        "print(dz_dy.numpy())  # 2.0"
      ],
      "execution_count": 0,
      "outputs": [
        {
          "output_type": "stream",
          "text": [
            "4.0\n",
            "2.0\n"
          ],
          "name": "stdout"
        }
      ]
    },
    {
      "cell_type": "markdown",
      "metadata": {
        "id": "v6BUJilo8tpm",
        "colab_type": "text"
      },
      "source": [
        "If you want to request a gradient from a tensor to another tensor, then you need to tell the tape to watch the source tensor:"
      ]
    },
    {
      "cell_type": "code",
      "metadata": {
        "id": "3aag8d8U8xQJ",
        "colab_type": "code",
        "outputId": "476283ef-df9e-4a8a-d385-ebe48360d520",
        "colab": {
          "base_uri": "https://localhost:8080/",
          "height": 34
        }
      },
      "source": [
        "x = tf.constant(1.0)\n",
        "with tf.GradientTape() as tape:\n",
        "  tape.watch(x)  # Since `x` is not a variable we must explicitly \"watch\" it.\n",
        "  y = x ** 2\n",
        "dy_dx = tape.gradient(y, x)\n",
        "print(dy_dx.numpy())  # 2.0"
      ],
      "execution_count": 0,
      "outputs": [
        {
          "output_type": "stream",
          "text": [
            "2.0\n"
          ],
          "name": "stdout"
        }
      ]
    },
    {
      "cell_type": "markdown",
      "metadata": {
        "id": "xaoS1Ze89Fbx",
        "colab_type": "text"
      },
      "source": [
        "By default, the resources held by a GradientTape are released as soon as GradientTape.gradient() method is called. To compute multiple gradients over the same computation, create a `persistent` gradient tape. This allows multiple calls to the `gradient()` method as resources are released when the tape object is garbage collected. For example:"
      ]
    },
    {
      "cell_type": "code",
      "metadata": {
        "id": "DinblQ0e9IDa",
        "colab_type": "code",
        "outputId": "15f6603d-a609-4872-ea5b-5f6e812ae562",
        "colab": {
          "base_uri": "https://localhost:8080/",
          "height": 68
        }
      },
      "source": [
        "x = tf.constant(3.0)\n",
        "with tf.GradientTape(persistent=True) as t:\n",
        "  t.watch(x)\n",
        "  y = x * x\n",
        "  z = y * y\n",
        "dz_dx = t.gradient(z, x)  # 108.0 (4*x^3 at x = 3)\n",
        "dy_dx = t.gradient(y, x)  # 6.0\n",
        "dz_dy = t.gradient(z, y)  # 18 (2*y = 2 * x * x = at x = 3)\n",
        "\n",
        "print (dy_dx)\n",
        "print (dz_dy)\n",
        "print (dz_dx)\n",
        "\n",
        "del t  # Drop the reference to the tape"
      ],
      "execution_count": 0,
      "outputs": [
        {
          "output_type": "stream",
          "text": [
            "tf.Tensor(6.0, shape=(), dtype=float32)\n",
            "tf.Tensor(2.0, shape=(), dtype=float32)\n",
            "tf.Tensor(108.0, shape=(), dtype=float32)\n"
          ],
          "name": "stdout"
        }
      ]
    },
    {
      "cell_type": "markdown",
      "metadata": {
        "id": "9JLWc0bv9iWr",
        "colab_type": "text"
      },
      "source": [
        "### Recording control flow\n",
        "\n",
        "Because tapes record operations as they are executed, Python control flow (using `if`s and `while`s for example) is naturally handled:"
      ]
    },
    {
      "cell_type": "code",
      "metadata": {
        "id": "xtM7dlSL9jdf",
        "colab_type": "code",
        "colab": {}
      },
      "source": [
        "def f(x, y):\n",
        "  output = 1.0\n",
        "  for i in range(y):\n",
        "    if i > 1 and i < 5:\n",
        "      output = tf.multiply(output, x)\n",
        "  return output\n",
        "\n",
        "def grad(x, y):\n",
        "  with tf.GradientTape() as t:\n",
        "    t.watch(x)\n",
        "    out = f(x, y)\n",
        "  return t.gradient(out, x)\n",
        "\n",
        "x = tf.convert_to_tensor(2.0)\n",
        "\n",
        "assert grad(x, 6).numpy() == 12.0\n",
        "assert grad(x, 5).numpy() == 12.0\n",
        "assert grad(x, 4).numpy() == 4.0"
      ],
      "execution_count": 0,
      "outputs": []
    },
    {
      "cell_type": "markdown",
      "metadata": {
        "id": "Gu8_oh3j9ms0",
        "colab_type": "text"
      },
      "source": [
        "### Higher-order gradients\n",
        "\n",
        "Operations inside of the `GradientTape` context manager are recorded for automatic differentiation. If gradients are computed in that context, then the gradient computation is recorded as well. As a result, the exact same API works for higher-order gradients as well. For example:"
      ]
    },
    {
      "cell_type": "code",
      "metadata": {
        "id": "gBmxDlos9tkO",
        "colab_type": "code",
        "colab": {}
      },
      "source": [
        "x = tf.Variable(1.0)  # Create a Tensorflow variable initialized to 1.0\n",
        "\n",
        "with tf.GradientTape() as t:\n",
        "  with tf.GradientTape() as t2:\n",
        "    y = x * x * x\n",
        "  # Compute the gradient inside the 't' context manager\n",
        "  # which means the gradient computation is differentiable as well.\n",
        "  dy_dx = t2.gradient(y, x)\n",
        "d2y_dx2 = t.gradient(dy_dx, x)\n",
        "\n",
        "assert dy_dx.numpy() == 3.0\n",
        "assert d2y_dx2.numpy() == 6.0"
      ],
      "execution_count": 0,
      "outputs": []
    },
    {
      "cell_type": "markdown",
      "metadata": {
        "id": "C7Qg4NUJ9tOd",
        "colab_type": "text"
      },
      "source": [
        "In this section, we covered gradient computation in TensorFlow. With that we have enough of the primitives required to build and train neural networks."
      ]
    },
    {
      "cell_type": "markdown",
      "metadata": {
        "id": "n5nxaxyfCUpo",
        "colab_type": "text"
      },
      "source": [
        "## Part 4: Custom Training"
      ]
    },
    {
      "cell_type": "markdown",
      "metadata": {
        "id": "ShLqQyM2EAl9",
        "colab_type": "text"
      },
      "source": [
        "Let's train neural networks from the first principle so as to acquire strong foundational understanding of the concepts.  We use `tf.Variable` to represent weights in a model.  A `tf.Variable` object stores a value and implicitly reads from this stored value. There are operations (`tf.assign_sub`, `tf.scatter_update`, etc.) that manipulate the value stored in a TensorFlow variable.\n",
        "\n"
      ]
    },
    {
      "cell_type": "code",
      "metadata": {
        "id": "5SHvo-wpEhQ2",
        "colab_type": "code",
        "colab": {}
      },
      "source": [
        "v = tf.Variable(1.0)\n",
        "# Use Python's `assert` as a debugging statement to test the condition\n",
        "assert v.numpy() == 1.0\n",
        "\n",
        "# Reassign the value `v`\n",
        "v.assign(3.0)\n",
        "assert v.numpy() == 3.0\n",
        "\n",
        "# Use `v` in a TensorFlow `tf.square()` operation and reassign\n",
        "v.assign(tf.square(v))\n",
        "assert v.numpy() == 9.0"
      ],
      "execution_count": 0,
      "outputs": []
    },
    {
      "cell_type": "markdown",
      "metadata": {
        "id": "HMOIgpU1FSHv",
        "colab_type": "text"
      },
      "source": [
        "### Fit a linear model\n",
        "\n",
        "Let's use the concepts you have learned so far—`Tensor`, `Variable`, and `GradientTape`—to build and train a simple model. This typically involves a few steps:\n",
        "\n",
        "1. Define the model.\n",
        "2. Define a loss function.\n",
        "3. Obtain training data.\n",
        "4. Run through the training data and use an \"optimizer\" to adjust the variables to fit the data.\n",
        "\n",
        "Here, you'll create a simple linear model, `f(x) = x * W + b`, which has two variables: `W` (weights) and `b` (bias). You'll synthesize data such that a well trained model would have `W = 3.0` and `b = 2.0`."
      ]
    },
    {
      "cell_type": "markdown",
      "metadata": {
        "id": "wlhnnZ_hFf1b",
        "colab_type": "text"
      },
      "source": [
        "### Define the model\n",
        "\n",
        "Let's define a simple class to encapsulate the variables and the computation:"
      ]
    },
    {
      "cell_type": "code",
      "metadata": {
        "id": "JNY-GbPeFgnw",
        "colab_type": "code",
        "colab": {}
      },
      "source": [
        "class Model(object):\n",
        "  def __init__(self):\n",
        "    # Initialize the weights to `5.0` and the bias to `0.0`\n",
        "    # In practice, these should be initialized to random values (for example, with `tf.random.normal`)\n",
        "    self.W = tf.Variable(5.0)\n",
        "    self.b = tf.Variable(0.0)\n",
        "\n",
        "  def __call__(self, x):\n",
        "    return self.W * x + self.b\n",
        "\n",
        "model = Model()\n",
        "\n",
        "assert model(3.0).numpy() == 15.0"
      ],
      "execution_count": 0,
      "outputs": []
    },
    {
      "cell_type": "markdown",
      "metadata": {
        "id": "tinKaU_AFjQi",
        "colab_type": "text"
      },
      "source": [
        "### Define a loss function\n",
        "\n",
        "A loss function measures how well the output of a model for a given input matches the target output. The goal is to minimize this difference during training. Let's use the standard L2 loss, also known as the least square errors:"
      ]
    },
    {
      "cell_type": "code",
      "metadata": {
        "id": "MPebWIUOFp-T",
        "colab_type": "code",
        "colab": {}
      },
      "source": [
        "def loss(predicted_y, target_y):\n",
        "  return tf.reduce_mean(tf.square(predicted_y - target_y))"
      ],
      "execution_count": 0,
      "outputs": []
    },
    {
      "cell_type": "markdown",
      "metadata": {
        "id": "apDUwbicF9Vp",
        "colab_type": "text"
      },
      "source": [
        "### Obtain training data\n",
        "\n",
        "First, synthesize the training data by adding random Gaussian (Normal) noise to the inputs:"
      ]
    },
    {
      "cell_type": "code",
      "metadata": {
        "id": "Zzsc88N_F-SL",
        "colab_type": "code",
        "colab": {}
      },
      "source": [
        "TRUE_W = 3.0\n",
        "TRUE_b = 2.0\n",
        "NUM_EXAMPLES = 1000\n",
        "\n",
        "inputs  = tf.random.normal(shape=[NUM_EXAMPLES])\n",
        "noise   = tf.random.normal(shape=[NUM_EXAMPLES])\n",
        "outputs = inputs * TRUE_W + TRUE_b + noise"
      ],
      "execution_count": 0,
      "outputs": []
    },
    {
      "cell_type": "markdown",
      "metadata": {
        "id": "XdY4fFjyFtLA",
        "colab_type": "text"
      },
      "source": [
        "Before training the model, visualize the loss value by plotting the model's predictions in red and the training data in blue:"
      ]
    },
    {
      "cell_type": "code",
      "metadata": {
        "id": "M5Xho-bCFwKM",
        "colab_type": "code",
        "outputId": "1388a33a-bf36-4007-e5f0-b564eab3d6a7",
        "colab": {
          "base_uri": "https://localhost:8080/",
          "height": 286
        }
      },
      "source": [
        "import matplotlib.pyplot as plt\n",
        "\n",
        "plt.scatter(inputs, outputs, c='b')\n",
        "plt.scatter(inputs, model(inputs), c='r')\n",
        "plt.show()\n",
        "\n",
        "print('Current loss: %1.6f' % loss(model(inputs), outputs).numpy())"
      ],
      "execution_count": 0,
      "outputs": [
        {
          "output_type": "display_data",
          "data": {
            "image/png": "[encoded data removed]",
            "text/plain": [
              "<Figure size 432x288 with 1 Axes>"
            ]
          },
          "metadata": {
            "tags": []
          }
        },
        {
          "output_type": "stream",
          "text": [
            "Current loss: 9.094963\n"
          ],
          "name": "stdout"
        }
      ]
    },
    {
      "cell_type": "markdown",
      "metadata": {
        "id": "ffhROcZ1GD5i",
        "colab_type": "text"
      },
      "source": [
        "### Define a training loop\n",
        "\n",
        "With the network and training data, train the model using [gradient descent](https://en.wikipedia.org/wiki/Gradient_descent) to update the weights variable (`W`) and the bias variable (`b`) to reduce the loss. There are many variants of the gradient descent scheme that are captured in `tf.train.Optimizer`—our recommended implementation. But in the spirit of building from first principles, here you will implement the basic math yourself with the help of `tf.GradientTape` for automatic differentiation and `tf.assign_sub` for decrementing a value (which combines `tf.assign` and `tf.sub`):"
      ]
    },
    {
      "cell_type": "code",
      "metadata": {
        "id": "3jfq7vM1GKpf",
        "colab_type": "code",
        "colab": {}
      },
      "source": [
        "def train(model, inputs, outputs, learning_rate):\n",
        "  with tf.GradientTape() as t:\n",
        "    current_loss = loss(model(inputs), outputs)\n",
        "  dW, db = t.gradient(current_loss, [model.W, model.b])\n",
        "  model.W.assign_sub(learning_rate * dW)\n",
        "  model.b.assign_sub(learning_rate * db)"
      ],
      "execution_count": 0,
      "outputs": []
    },
    {
      "cell_type": "markdown",
      "metadata": {
        "id": "v64BoMGUGRvb",
        "colab_type": "text"
      },
      "source": [
        "Finally, let's repeatedly run through the training data and see how W and b evolve."
      ]
    },
    {
      "cell_type": "code",
      "metadata": {
        "id": "NPyFZB-nGT9w",
        "colab_type": "code",
        "outputId": "3215ab56-fff3-44d5-f5ec-78f8170506ac",
        "colab": {
          "base_uri": "https://localhost:8080/",
          "height": 439
        }
      },
      "source": [
        "model = Model()\n",
        "\n",
        "# Collect the history of W-values and b-values to plot later\n",
        "Ws, bs = [], []\n",
        "epochs = range(10)\n",
        "for epoch in epochs:\n",
        "  Ws.append(model.W.numpy())\n",
        "  bs.append(model.b.numpy())\n",
        "  current_loss = loss(model(inputs), outputs)\n",
        "\n",
        "  train(model, inputs, outputs, learning_rate=0.1)\n",
        "  print('Epoch %2d: W=%1.2f b=%1.2f, loss=%2.5f' %\n",
        "        (epoch, Ws[-1], bs[-1], current_loss))\n",
        "\n",
        "# Let's plot it all\n",
        "plt.plot(epochs, Ws, 'r',\n",
        "         epochs, bs, 'b')\n",
        "plt.plot([TRUE_W] * len(epochs), 'r--',\n",
        "         [TRUE_b] * len(epochs), 'b--')\n",
        "plt.legend(['W', 'b', 'True W', 'True b'])\n",
        "plt.show()\n"
      ],
      "execution_count": 0,
      "outputs": [
        {
          "output_type": "stream",
          "text": [
            "Epoch  0: W=5.00 b=0.00, loss=9.09496\n",
            "Epoch  1: W=4.59 b=0.41, loss=6.10919\n",
            "Epoch  2: W=4.27 b=0.73, loss=4.21764\n",
            "Epoch  3: W=4.01 b=0.99, loss=3.01930\n",
            "Epoch  4: W=3.80 b=1.20, loss=2.26011\n",
            "Epoch  5: W=3.64 b=1.36, loss=1.77912\n",
            "Epoch  6: W=3.51 b=1.49, loss=1.47439\n",
            "Epoch  7: W=3.40 b=1.59, loss=1.28133\n",
            "Epoch  8: W=3.32 b=1.67, loss=1.15900\n",
            "Epoch  9: W=3.25 b=1.74, loss=1.08150\n"
          ],
          "name": "stdout"
        },
        {
          "output_type": "display_data",
          "data": {
            "image/png": "[encoded data removed]",
            "text/plain": [
              "<Figure size 432x288 with 1 Axes>"
            ]
          },
          "metadata": {
            "tags": []
          }
        }
      ]
    },
    {
      "cell_type": "markdown",
      "metadata": {
        "id": "pZvOsVZEHcE1",
        "colab_type": "text"
      },
      "source": [
        "## Homework\n",
        "\n",
        "Run [IRIS flower classification](https://www.tensorflow.org/beta/tutorials/eager/custom_training_walkthrough) colab notebook for end-to-end ML process understanding."
      ]
    }
  ]
}
