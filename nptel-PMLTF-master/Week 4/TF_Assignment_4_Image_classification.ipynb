{
  "nbformat": 4,
  "nbformat_minor": 0,
  "metadata": {
    "colab": {
      "name": "TF_Assignment_4_Image_classification.ipynb",
      "provenance": [],
      "collapsed_sections": [],
      "include_colab_link": true
    },
    "kernelspec": {
      "name": "python3",
      "display_name": "Python 3"
    },
    "accelerator": "GPU"
  },
  "cells": [
    {
      "cell_type": "markdown",
      "metadata": {
        "id": "view-in-github",
        "colab_type": "text"
      },
      "source": [
        "<a href=\"https://colab.research.google.com/github/ada-nai/nptel-PMLTF/blob/master/TF_Assignment_4_Image_classification.ipynb\" target=\"_parent\"><img src=\"https://colab.research.google.com/assets/colab-badge.svg\" alt=\"Open In Colab\"/></a>"
      ]
    },
    {
      "cell_type": "markdown",
      "metadata": {
        "colab_type": "text",
        "id": "FbVhjPpzn6BM"
      },
      "source": [
        "First run the following cells to import current version of Tensorflow."
      ]
    },
    {
      "cell_type": "code",
      "metadata": {
        "colab_type": "code",
        "id": "jL3OqFKZ9dFg",
        "colab": {
          "base_uri": "https://localhost:8080/",
          "height": 34
        },
        "outputId": "58b2c589-dde5-4591-a4e4-990f14184adf"
      },
      "source": [
        "try:\n",
        "  # %tensorflow_version only exists in Colab.\n",
        "  %tensorflow_version 2.x\n",
        "except Exception:\n",
        "  pass\n"
      ],
      "execution_count": 1,
      "outputs": [
        {
          "output_type": "stream",
          "text": [
            "TensorFlow 2.x selected.\n"
          ],
          "name": "stdout"
        }
      ]
    },
    {
      "cell_type": "code",
      "metadata": {
        "colab_type": "code",
        "id": "dzLKpmZICaWN",
        "colab": {
          "base_uri": "https://localhost:8080/",
          "height": 52
        },
        "outputId": "45483e1f-8a2c-4694-86b8-57ff7978098d"
      },
      "source": [
        "from __future__ import absolute_import, division, print_function, unicode_literals\n",
        "\n",
        "# TensorFlow and tf.keras\n",
        "import tensorflow as tf\n",
        "from tensorflow import keras\n",
        "from keras.utils import np_utils\n",
        "\n",
        "# Helper libraries\n",
        "import numpy as np\n",
        "import matplotlib.pyplot as plt\n",
        "\n",
        "print(tf.__version__)"
      ],
      "execution_count": 2,
      "outputs": [
        {
          "output_type": "stream",
          "text": [
            "2.0.0\n"
          ],
          "name": "stdout"
        },
        {
          "output_type": "stream",
          "text": [
            "Using TensorFlow backend.\n"
          ],
          "name": "stderr"
        }
      ]
    },
    {
      "cell_type": "markdown",
      "metadata": {
        "colab_type": "text",
        "id": "yR0EdgrLCaWR"
      },
      "source": [
        "## Import the Image dataset"
      ]
    },
    {
      "cell_type": "markdown",
      "metadata": {
        "colab_type": "text",
        "id": "DLdCchMdCaWQ"
      },
      "source": [
        "In this notebook, we are going to classify images from the [MNIST](http://yann.lecun.com/exdb/mnist/) dataset. \n",
        "\n",
        "\n",
        "<table>\n",
        "  <tr><td>\n",
        "    <img src=\"https://miro.medium.com/max/479/1*yBdJCRwIJGoM7pwU-LNW6Q.png\"\n",
        "         alt=\"CIFAR samples\"  >\n",
        "  </td></tr>\n",
        "  <tr><td align=\"center\">\n",
        "    <b>Figure 1.</b> <a href=\"http://yann.lecun.com/exdb/mnist/\">MNIST samples</a>.<br/>&nbsp;\n",
        "  </td></tr>\n",
        "</table>\n",
        "\n"
      ]
    },
    {
      "cell_type": "code",
      "metadata": {
        "colab_type": "code",
        "id": "7MqDQO0KCaWS",
        "colab": {
          "base_uri": "https://localhost:8080/",
          "height": 52
        },
        "outputId": "87e87d96-28ec-4b64-af4d-16988e001196"
      },
      "source": [
        "tf.random.set_seed(100)\n",
        "mnist = keras.datasets.mnist\n",
        "\n",
        "(train_images, train_labels), (test_images, test_labels) = mnist.load_data()"
      ],
      "execution_count": 3,
      "outputs": [
        {
          "output_type": "stream",
          "text": [
            "Downloading data from https://storage.googleapis.com/tensorflow/tf-keras-datasets/mnist.npz\n",
            "11493376/11490434 [==============================] - 0s 0us/step\n"
          ],
          "name": "stdout"
        }
      ]
    },
    {
      "cell_type": "code",
      "metadata": {
        "colab_type": "code",
        "id": "IjnLH5S2CaWx",
        "colab": {}
      },
      "source": [
        "num_train, img_rows, img_cols =  train_images.shape\n",
        "num_test, _, _ =  test_images.shape\n",
        "num_classes = len(np.unique(train_labels))"
      ],
      "execution_count": 0,
      "outputs": []
    },
    {
      "cell_type": "markdown",
      "metadata": {
        "colab_type": "text",
        "id": "Brm0b_KACaWX"
      },
      "source": [
        "## Explore the data\n",
        "\n",
        "#### Q1: What is the shape of train and test data in MNIST dataset?"
      ]
    },
    {
      "cell_type": "code",
      "metadata": {
        "id": "NFVmt6TFg_wc",
        "colab_type": "code",
        "colab": {
          "base_uri": "https://localhost:8080/",
          "height": 52
        },
        "outputId": "7a500e03-14eb-4644-f1bb-be24ae363664"
      },
      "source": [
        "# write your code here to answer above question\n",
        "print(\"shape of train:\", train_images.shape)\n",
        "print(\"shape of test:\", test_images.shape)\n"
      ],
      "execution_count": 5,
      "outputs": [
        {
          "output_type": "stream",
          "text": [
            "shape of train: (60000, 28, 28)\n",
            "shape of test: (10000, 28, 28)\n"
          ],
          "name": "stdout"
        }
      ]
    },
    {
      "cell_type": "markdown",
      "metadata": {
        "colab_type": "text",
        "id": "ES6uQoLKCaWr"
      },
      "source": [
        "## Preprocess the data\n",
        "\n",
        "The data must be preprocessed before training the network. "
      ]
    },
    {
      "cell_type": "code",
      "metadata": {
        "colab_type": "code",
        "id": "bW5WzIPlCaWv",
        "colab": {}
      },
      "source": [
        "train_images = train_images / 255.0\n",
        "test_images = test_images / 255.0"
      ],
      "execution_count": 0,
      "outputs": []
    },
    {
      "cell_type": "markdown",
      "metadata": {
        "colab_type": "text",
        "id": "59veuiEZCaW4"
      },
      "source": [
        "## Build the model\n"
      ]
    },
    {
      "cell_type": "markdown",
      "metadata": {
        "colab_type": "text",
        "id": "Gxg1XGm0eOBy"
      },
      "source": [
        "Model should contain following layers:\n",
        "  \n",
        "  Flatten(Input) -> Dense(10, activation='softmax')\n",
        "  \n",
        "Use 'Adam' optimizer\n",
        "\n",
        "Use 'accuracy' as your metric\n",
        "\n",
        "#### Q2: Which loss function would be appropriate here? \n",
        "\n"
      ]
    },
    {
      "cell_type": "code",
      "metadata": {
        "id": "G7-4xb8v7T8-",
        "colab_type": "code",
        "colab": {}
      },
      "source": [
        "# Build and compile your model in this cell. Make sure to first answer Q2.\n",
        "model = keras.Sequential([\n",
        "                          keras.layers.Flatten(input_shape = (28,28)),\n",
        "                          keras.layers.Dense(10,activation='softmax')\n",
        "                          ])"
      ],
      "execution_count": 0,
      "outputs": []
    },
    {
      "cell_type": "code",
      "metadata": {
        "id": "P4AOHJ60TXv1",
        "colab_type": "code",
        "colab": {}
      },
      "source": [
        "model.compile(optimizer='adam',\n",
        "              loss='sparse_categorical_crossentropy',\n",
        "              metrics=['accuracy'])"
      ],
      "execution_count": 0,
      "outputs": []
    },
    {
      "cell_type": "markdown",
      "metadata": {
        "id": "EwCOzzGM8nqL",
        "colab_type": "text"
      },
      "source": [
        "#### Q3: Total number of **parameters**? \n"
      ]
    },
    {
      "cell_type": "code",
      "metadata": {
        "id": "npTWmb5CTvUl",
        "colab_type": "code",
        "outputId": "ac1b29ad-9b99-4741-9cee-151be5718af7",
        "colab": {
          "base_uri": "https://localhost:8080/",
          "height": 225
        }
      },
      "source": [
        "model.summary()"
      ],
      "execution_count": 9,
      "outputs": [
        {
          "output_type": "stream",
          "text": [
            "Model: \"sequential\"\n",
            "_________________________________________________________________\n",
            "Layer (type)                 Output Shape              Param #   \n",
            "=================================================================\n",
            "flatten (Flatten)            (None, 784)               0         \n",
            "_________________________________________________________________\n",
            "dense (Dense)                (None, 10)                7850      \n",
            "=================================================================\n",
            "Total params: 7,850\n",
            "Trainable params: 7,850\n",
            "Non-trainable params: 0\n",
            "_________________________________________________________________\n"
          ],
          "name": "stdout"
        }
      ]
    },
    {
      "cell_type": "markdown",
      "metadata": {
        "id": "-A4wzLMrTxr4",
        "colab_type": "text"
      },
      "source": [
        "Total parameters are 7,850 which means 1,001 <= P < 10,000"
      ]
    },
    {
      "cell_type": "markdown",
      "metadata": {
        "colab_type": "text",
        "id": "qKF6uW-BCaW-"
      },
      "source": [
        "## Train the model\n",
        "\n",
        "Run the following command to train your model:"
      ]
    },
    {
      "cell_type": "code",
      "metadata": {
        "colab_type": "code",
        "id": "xvwvpA64CaW_",
        "colab": {
          "base_uri": "https://localhost:8080/",
          "height": 382
        },
        "outputId": "8dbd0ab8-5e28-44f6-fc47-fd10c2a3cd6e"
      },
      "source": [
        "history = model.fit(train_images, train_labels, batch_size=512, validation_data = (test_images, test_labels), epochs=10)"
      ],
      "execution_count": 10,
      "outputs": [
        {
          "output_type": "stream",
          "text": [
            "Train on 60000 samples, validate on 10000 samples\n",
            "Epoch 1/10\n",
            "60000/60000 [==============================] - 2s 38us/sample - loss: 1.1270 - accuracy: 0.7224 - val_loss: 0.6315 - val_accuracy: 0.8558\n",
            "Epoch 2/10\n",
            "60000/60000 [==============================] - 1s 10us/sample - loss: 0.5520 - accuracy: 0.8656 - val_loss: 0.4585 - val_accuracy: 0.8871\n",
            "Epoch 3/10\n",
            "60000/60000 [==============================] - 1s 10us/sample - loss: 0.4420 - accuracy: 0.8865 - val_loss: 0.3917 - val_accuracy: 0.9004\n",
            "Epoch 4/10\n",
            "60000/60000 [==============================] - 1s 10us/sample - loss: 0.3916 - accuracy: 0.8963 - val_loss: 0.3567 - val_accuracy: 0.9067\n",
            "Epoch 5/10\n",
            "60000/60000 [==============================] - 1s 10us/sample - loss: 0.3617 - accuracy: 0.9028 - val_loss: 0.3362 - val_accuracy: 0.9095\n",
            "Epoch 6/10\n",
            "60000/60000 [==============================] - 1s 10us/sample - loss: 0.3418 - accuracy: 0.9073 - val_loss: 0.3208 - val_accuracy: 0.9117\n",
            "Epoch 7/10\n",
            "60000/60000 [==============================] - 1s 11us/sample - loss: 0.3274 - accuracy: 0.9112 - val_loss: 0.3110 - val_accuracy: 0.9137\n",
            "Epoch 8/10\n",
            "60000/60000 [==============================] - 1s 10us/sample - loss: 0.3164 - accuracy: 0.9135 - val_loss: 0.3017 - val_accuracy: 0.9164\n",
            "Epoch 9/10\n",
            "60000/60000 [==============================] - 1s 11us/sample - loss: 0.3079 - accuracy: 0.9158 - val_loss: 0.2954 - val_accuracy: 0.9185\n",
            "Epoch 10/10\n",
            "60000/60000 [==============================] - 1s 11us/sample - loss: 0.3007 - accuracy: 0.9179 - val_loss: 0.2902 - val_accuracy: 0.9180\n"
          ],
          "name": "stdout"
        }
      ]
    },
    {
      "cell_type": "markdown",
      "metadata": {
        "id": "oQqKtmyu8ws2",
        "colab_type": "text"
      },
      "source": [
        "Run the above command before answering Q4.\n",
        "\n",
        "Modify the model and run the above code answer Q5."
      ]
    },
    {
      "cell_type": "markdown",
      "metadata": {
        "id": "XatpeYBIUQtB",
        "colab_type": "text"
      },
      "source": [
        "val_accuracy: 0.9180"
      ]
    },
    {
      "cell_type": "code",
      "metadata": {
        "id": "shH1FazlUOdD",
        "colab_type": "code",
        "colab": {}
      },
      "source": [
        "model2 = keras.Sequential([\n",
        "                           keras.layers.Flatten(input_shape = (28,28)),\n",
        "                           keras.layers.Dense(300, activation='relu'),\n",
        "                           keras.layers.Dense(10, activation='softmax')\n",
        "])"
      ],
      "execution_count": 0,
      "outputs": []
    },
    {
      "cell_type": "code",
      "metadata": {
        "id": "Vr_MZMl_UppG",
        "colab_type": "code",
        "colab": {}
      },
      "source": [
        "model2.compile(optimizer='adam', loss= 'sparse_categorical_crossentropy', metrics = ['accuracy'])"
      ],
      "execution_count": 0,
      "outputs": []
    },
    {
      "cell_type": "code",
      "metadata": {
        "id": "82inQhJvU7m0",
        "colab_type": "code",
        "outputId": "861eddea-0f48-4ec0-d46f-a1059a33c220",
        "colab": {
          "base_uri": "https://localhost:8080/",
          "height": 382
        }
      },
      "source": [
        "history = model2.fit(train_images, train_labels, batch_size=512, validation_data = (test_images, test_labels), epochs=10)"
      ],
      "execution_count": 13,
      "outputs": [
        {
          "output_type": "stream",
          "text": [
            "Train on 60000 samples, validate on 10000 samples\n",
            "Epoch 1/10\n",
            "60000/60000 [==============================] - 1s 19us/sample - loss: 0.4703 - accuracy: 0.8745 - val_loss: 0.2385 - val_accuracy: 0.9317\n",
            "Epoch 2/10\n",
            "60000/60000 [==============================] - 1s 12us/sample - loss: 0.2016 - accuracy: 0.9431 - val_loss: 0.1652 - val_accuracy: 0.9527\n",
            "Epoch 3/10\n",
            "60000/60000 [==============================] - 1s 12us/sample - loss: 0.1489 - accuracy: 0.9582 - val_loss: 0.1381 - val_accuracy: 0.9600\n",
            "Epoch 4/10\n",
            "60000/60000 [==============================] - 1s 12us/sample - loss: 0.1164 - accuracy: 0.9675 - val_loss: 0.1113 - val_accuracy: 0.9677\n",
            "Epoch 5/10\n",
            "60000/60000 [==============================] - 1s 12us/sample - loss: 0.0952 - accuracy: 0.9733 - val_loss: 0.1024 - val_accuracy: 0.9701\n",
            "Epoch 6/10\n",
            "60000/60000 [==============================] - 1s 12us/sample - loss: 0.0790 - accuracy: 0.9780 - val_loss: 0.0900 - val_accuracy: 0.9729\n",
            "Epoch 7/10\n",
            "60000/60000 [==============================] - 1s 12us/sample - loss: 0.0679 - accuracy: 0.9808 - val_loss: 0.0863 - val_accuracy: 0.9729\n",
            "Epoch 8/10\n",
            "60000/60000 [==============================] - 1s 12us/sample - loss: 0.0570 - accuracy: 0.9846 - val_loss: 0.0790 - val_accuracy: 0.9759\n",
            "Epoch 9/10\n",
            "60000/60000 [==============================] - 1s 12us/sample - loss: 0.0497 - accuracy: 0.9867 - val_loss: 0.0728 - val_accuracy: 0.9777\n",
            "Epoch 10/10\n",
            "60000/60000 [==============================] - 1s 12us/sample - loss: 0.0425 - accuracy: 0.9890 - val_loss: 0.0711 - val_accuracy: 0.9775\n"
          ],
          "name": "stdout"
        }
      ]
    },
    {
      "cell_type": "markdown",
      "metadata": {
        "id": "ILnNUPjIVPMV",
        "colab_type": "text"
      },
      "source": [
        " val_loss: 0.0709"
      ]
    },
    {
      "cell_type": "markdown",
      "metadata": {
        "id": "NL8MnimTcBit",
        "colab_type": "text"
      },
      "source": [
        "## Test Underfitting and Overfitting"
      ]
    },
    {
      "cell_type": "code",
      "metadata": {
        "id": "r7iTdt4dcGhR",
        "colab_type": "code",
        "colab": {}
      },
      "source": [
        "# summarize history for accuracy\n",
        "def plot_acc(history):\n",
        "  plt.plot(history.history['accuracy'])\n",
        "  plt.plot(history.history['val_accuracy'])\n",
        "  plt.title('model accuracy')\n",
        "  plt.ylabel('accuracy')\n",
        "  plt.xlabel('epoch')\n",
        "  plt.legend(['train', 'test'], loc='upper left')\n",
        "  plt.show()\n",
        "# summarize history for loss\n",
        "def plot_loss(history):\n",
        "  plt.plot(history.history['loss'])\n",
        "  plt.plot(history.history['val_loss'])\n",
        "  plt.title('model loss')\n",
        "  plt.ylabel('loss')\n",
        "  plt.xlabel('epoch')\n",
        "  plt.legend(['train', 'test'], loc='upper left')\n",
        "  plt.show()"
      ],
      "execution_count": 0,
      "outputs": []
    },
    {
      "cell_type": "code",
      "metadata": {
        "id": "KmagO0XOeKss",
        "colab_type": "code",
        "colab": {
          "base_uri": "https://localhost:8080/",
          "height": 573
        },
        "outputId": "38db96fd-d789-41d1-87e8-e5654bb59633"
      },
      "source": [
        "plot_acc(history)\n",
        "plot_loss(history)"
      ],
      "execution_count": 15,
      "outputs": [
        {
          "output_type": "display_data",
          "data": {
            "image/png": "[encoded data removed]",
            "text/plain": [
              "<Figure size 432x288 with 1 Axes>"
            ]
          },
          "metadata": {
            "tags": []
          }
        },
        {
          "output_type": "display_data",
          "data": {
            "image/png": "[encoded data removed]",
            "text/plain": [
              "<Figure size 432x288 with 1 Axes>"
            ]
          },
          "metadata": {
            "tags": []
          }
        }
      ]
    }
  ]
}
