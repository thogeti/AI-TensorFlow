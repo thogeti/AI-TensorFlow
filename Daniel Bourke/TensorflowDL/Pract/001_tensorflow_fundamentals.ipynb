# Import TensorFlow
import tensorflow as tf
print(tf.__version__) # find the version number (should be 2.x+)
