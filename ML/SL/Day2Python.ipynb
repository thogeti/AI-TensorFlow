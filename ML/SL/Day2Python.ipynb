{
  "nbformat": 4,
  "nbformat_minor": 0,
  "metadata": {
    "colab": {
      "name": "Day2Python.ipynb",
      "provenance": [],
      "authorship_tag": "ABX9TyPSfF2afEz4MkMWcsv2y+7o",
      "include_colab_link": true
    },
    "kernelspec": {
      "name": "python3",
      "display_name": "Python 3"
    },
    "language_info": {
      "name": "python"
    }
  },
  "cells": [
    {
      "cell_type": "markdown",
      "metadata": {
        "id": "view-in-github",
        "colab_type": "text"
      },
      "source": [
        "<a href=\"https://colab.research.google.com/github/thogeti/AI-TensorFlow/blob/master/ML/SL/Day2Python.ipynb\" target=\"_parent\"><img src=\"https://colab.research.google.com/assets/colab-badge.svg\" alt=\"Open In Colab\"/></a>"
      ]
    },
    {
      "cell_type": "code",
      "execution_count": null,
      "metadata": {
        "id": "DSmSIGNoFJGR"
      },
      "outputs": [],
      "source": [
        "import numpy as np\n"
      ]
    },
    {
      "cell_type": "markdown",
      "source": [
        "**PYTHON**"
      ],
      "metadata": {
        "id": "74RYgrYCUymQ"
      }
    },
    {
      "cell_type": "code",
      "source": [
        "# if  elif else\n",
        "a=10\n",
        "b=6\n",
        "c=10\n",
        "if (a<b):\n",
        "  print('a less then b')\n",
        "elif(a==c):\n",
        "  print('a = c')\n",
        "  if(c>b):\n",
        "    print('c greater b')\n",
        "  else:\n",
        "    print('c less b')\n",
        "else:\n",
        " print('a is not less b')"
      ],
      "metadata": {
        "colab": {
          "base_uri": "https://localhost:8080/"
        },
        "id": "JDoGznzbUsOB",
        "outputId": "770ff057-b52f-442f-a726-bb9e6dd66258"
      },
      "execution_count": 4,
      "outputs": [
        {
          "output_type": "stream",
          "name": "stdout",
          "text": [
            "a = c\n",
            "c greater b\n"
          ]
        }
      ]
    },
    {
      "cell_type": "markdown",
      "source": [
        "**WHILE**"
      ],
      "metadata": {
        "id": "Jn1_DhO-ZaKl"
      }
    },
    {
      "cell_type": "code",
      "source": [
        "i=0\n",
        "while(i <=10):\n",
        "  print(i)\n",
        "  i+=1"
      ],
      "metadata": {
        "colab": {
          "base_uri": "https://localhost:8080/"
        },
        "id": "kDKIasR2ZAhF",
        "outputId": "792e9f17-d92a-4538-d8a7-3641661edaa7"
      },
      "execution_count": 6,
      "outputs": [
        {
          "output_type": "stream",
          "name": "stdout",
          "text": [
            "0\n",
            "1\n",
            "2\n",
            "3\n",
            "4\n",
            "5\n",
            "6\n",
            "7\n",
            "8\n",
            "9\n",
            "10\n"
          ]
        }
      ]
    },
    {
      "cell_type": "markdown",
      "source": [
        "FOR loop"
      ],
      "metadata": {
        "id": "djvefaAiZdmC"
      }
    },
    {
      "cell_type": "code",
      "source": [
        "for i in range(6):\n",
        " print(i)"
      ],
      "metadata": {
        "colab": {
          "base_uri": "https://localhost:8080/"
        },
        "id": "NwcfFbP3ZYQw",
        "outputId": "052add40-81bd-44e3-d927-a5ca1ec094eb"
      },
      "execution_count": 8,
      "outputs": [
        {
          "output_type": "stream",
          "name": "stdout",
          "text": [
            "0\n",
            "1\n",
            "2\n",
            "3\n",
            "4\n",
            "5\n"
          ]
        }
      ]
    },
    {
      "cell_type": "code",
      "source": [
        "for i in range(3,6):\n",
        " print(i)"
      ],
      "metadata": {
        "colab": {
          "base_uri": "https://localhost:8080/"
        },
        "id": "kgowNDzSZxmy",
        "outputId": "3bf3138f-5ff3-4397-b532-827f32a5eda7"
      },
      "execution_count": 9,
      "outputs": [
        {
          "output_type": "stream",
          "name": "stdout",
          "text": [
            "3\n",
            "4\n",
            "5\n"
          ]
        }
      ]
    },
    {
      "cell_type": "code",
      "source": [
        "for i in range(2,20,2*i):\n",
        " print('**:'+str(2*i))\n",
        " print(i)"
      ],
      "metadata": {
        "colab": {
          "base_uri": "https://localhost:8080/"
        },
        "id": "BVbcZQPmZ4J6",
        "outputId": "c85f322b-5d8f-4978-dff8-da8ac5be70d2"
      },
      "execution_count": 15,
      "outputs": [
        {
          "output_type": "stream",
          "name": "stdout",
          "text": [
            "**:4\n",
            "2\n",
            "**:12\n",
            "6\n",
            "**:20\n",
            "10\n",
            "**:28\n",
            "14\n",
            "**:36\n",
            "18\n"
          ]
        }
      ]
    },
    {
      "cell_type": "code",
      "source": [
        "# Reverse\n",
        "for i in range(20,2,-2):\n",
        " print(i)"
      ],
      "metadata": {
        "colab": {
          "base_uri": "https://localhost:8080/"
        },
        "id": "8Lif0w2vaGmU",
        "outputId": "96d248c9-a5de-4796-e359-fda6318b28f4"
      },
      "execution_count": 11,
      "outputs": [
        {
          "output_type": "stream",
          "name": "stdout",
          "text": [
            "20\n",
            "18\n",
            "16\n",
            "14\n",
            "12\n",
            "10\n",
            "8\n",
            "6\n",
            "4\n"
          ]
        }
      ]
    }
  ]
}